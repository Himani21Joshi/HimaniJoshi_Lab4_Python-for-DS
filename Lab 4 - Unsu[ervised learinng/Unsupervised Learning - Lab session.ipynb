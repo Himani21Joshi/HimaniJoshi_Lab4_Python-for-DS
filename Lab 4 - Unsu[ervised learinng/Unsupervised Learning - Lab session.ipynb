{
 "cells": [
  {
   "cell_type": "markdown",
   "id": "83f26a29",
   "metadata": {
    "id": "83f26a29"
   },
   "source": [
    "# Unsupervised Lab Session"
   ]
  },
  {
   "cell_type": "markdown",
   "id": "8ea571d1",
   "metadata": {
    "id": "8ea571d1"
   },
   "source": [
    "## Learning outcomes:\n",
    "- Exploratory data analysis and data preparation for model building.\n",
    "- PCA for dimensionality reduction.\n",
    "- K-means and Agglomerative Clustering"
   ]
  },
  {
   "cell_type": "markdown",
   "id": "fd7f778a",
   "metadata": {
    "id": "fd7f778a"
   },
   "source": [
    "## Problem Statement\n",
    "Based on the given marketing campigan dataset, segment the similar customers into suitable clusters. Analyze the clusters and provide your insights to help the organization promote their business."
   ]
  },
  {
   "cell_type": "markdown",
   "id": "33b58f8f",
   "metadata": {
    "id": "33b58f8f"
   },
   "source": [
    "## Context:\n",
    "- Customer Personality Analysis is a detailed analysis of a company’s ideal customers. It helps a business to better understand its customers and makes it easier for them to modify products according to the specific needs, behaviors and concerns of different types of customers.\n",
    "- Customer personality analysis helps a business to modify its product based on its target customers from different types of customer segments. For example, instead of spending money to market a new product to every customer in the company’s database, a company can analyze which customer segment is most likely to buy the product and then market the product only on that particular segment."
   ]
  },
  {
   "cell_type": "markdown",
   "id": "867166aa",
   "metadata": {
    "id": "867166aa"
   },
   "source": [
    "## About dataset\n",
    "- Source: https://www.kaggle.com/datasets/imakash3011/customer-personality-analysis?datasetId=1546318&sortBy=voteCount\n",
    "\n",
    "### Attribute Information:\n",
    "- ID: Customer's unique identifier\n",
    "- Year_Birth: Customer's birth year\n",
    "- Education: Customer's education level\n",
    "- Marital_Status: Customer's marital status\n",
    "- Income: Customer's yearly household income\n",
    "- Kidhome: Number of children in customer's household\n",
    "- Teenhome: Number of teenagers in customer's household\n",
    "- Dt_Customer: Date of customer's enrollment with the company\n",
    "- Recency: Number of days since customer's last purchase\n",
    "- Complain: 1 if the customer complained in the last 2 years, 0 otherwise\n",
    "- MntWines: Amount spent on wine in last 2 years\n",
    "- MntFruits: Amount spent on fruits in last 2 years\n",
    "- MntMeatProducts: Amount spent on meat in last 2 years\n",
    "- MntFishProducts: Amount spent on fish in last 2 years\n",
    "- MntSweetProducts: Amount spent on sweets in last 2 years\n",
    "- MntGoldProds: Amount spent on gold in last 2 years\n",
    "- NumDealsPurchases: Number of purchases made with a discount\n",
    "- AcceptedCmp1: 1 if customer accepted the offer in the 1st campaign, 0 otherwise\n",
    "- AcceptedCmp2: 1 if customer accepted the offer in the 2nd campaign, 0 otherwise\n",
    "- AcceptedCmp3: 1 if customer accepted the offer in the 3rd campaign, 0 otherwise\n",
    "- AcceptedCmp4: 1 if customer accepted the offer in the 4th campaign, 0 otherwise\n",
    "- AcceptedCmp5: 1 if customer accepted the offer in the 5th campaign, 0 otherwise\n",
    "- Response: 1 if customer accepted the offer in the last campaign, 0 otherwise\n",
    "- NumWebPurchases: Number of purchases made through the company’s website\n",
    "- NumCatalogPurchases: Number of purchases made using a catalogue\n",
    "- NumStorePurchases: Number of purchases made directly in stores\n",
    "- NumWebVisitsMonth: Number of visits to company’s website in the last month"
   ]
  },
  {
   "cell_type": "markdown",
   "id": "5a830406",
   "metadata": {
    "id": "5a830406"
   },
   "source": [
    "### 1. Import required libraries"
   ]
  },
  {
   "cell_type": "code",
   "execution_count": 1,
   "id": "d65c5528",
   "metadata": {
    "id": "d65c5528"
   },
   "outputs": [],
   "source": [
    "# importing libraries\n",
    "\n",
    "import pandas as pd\n",
    "import numpy as np\n",
    "import matplotlib.pyplot as plt\n",
    "import seaborn as sns\n",
    "import warnings\n",
    "warnings.filterwarnings('ignore')\n",
    "\n",
    "from sklearn.preprocessing import StandardScaler,LabelEncoder\n",
    "from scipy import stats\n",
    "from sklearn.cluster import KMeans\n",
    "from scipy.stats import zscore\n",
    "from scipy.spatial import distance\n",
    "from scipy.cluster.hierarchy import linkage, dendrogram, fcluster\n",
    "from sklearn.cluster import AgglomerativeClustering\n",
    "from sklearn.decomposition import PCA\n",
    "from sklearn.model_selection import train_test_split\n",
    "from sklearn import preprocessing\n",
    "from sklearn.preprocessing import Normalizer"
   ]
  },
  {
   "cell_type": "markdown",
   "id": "c80eb960",
   "metadata": {
    "id": "c80eb960"
   },
   "source": [
    "### 2. Load the CSV file (i.e marketing.csv) and display the first 5 rows of the dataframe. Check the shape and info of the dataset."
   ]
  },
  {
   "cell_type": "code",
   "execution_count": 2,
   "id": "1caebc10",
   "metadata": {
    "id": "1caebc10"
   },
   "outputs": [
    {
     "data": {
      "text/html": [
       "<div>\n",
       "<style scoped>\n",
       "    .dataframe tbody tr th:only-of-type {\n",
       "        vertical-align: middle;\n",
       "    }\n",
       "\n",
       "    .dataframe tbody tr th {\n",
       "        vertical-align: top;\n",
       "    }\n",
       "\n",
       "    .dataframe thead th {\n",
       "        text-align: right;\n",
       "    }\n",
       "</style>\n",
       "<table border=\"1\" class=\"dataframe\">\n",
       "  <thead>\n",
       "    <tr style=\"text-align: right;\">\n",
       "      <th></th>\n",
       "      <th>ID</th>\n",
       "      <th>Year_Birth</th>\n",
       "      <th>Education</th>\n",
       "      <th>Marital_Status</th>\n",
       "      <th>Income</th>\n",
       "      <th>Kidhome</th>\n",
       "      <th>Teenhome</th>\n",
       "      <th>Dt_Customer</th>\n",
       "      <th>Recency</th>\n",
       "      <th>MntWines</th>\n",
       "      <th>...</th>\n",
       "      <th>NumCatalogPurchases</th>\n",
       "      <th>NumStorePurchases</th>\n",
       "      <th>NumWebVisitsMonth</th>\n",
       "      <th>AcceptedCmp3</th>\n",
       "      <th>AcceptedCmp4</th>\n",
       "      <th>AcceptedCmp5</th>\n",
       "      <th>AcceptedCmp1</th>\n",
       "      <th>AcceptedCmp2</th>\n",
       "      <th>Complain</th>\n",
       "      <th>Response</th>\n",
       "    </tr>\n",
       "  </thead>\n",
       "  <tbody>\n",
       "    <tr>\n",
       "      <th>0</th>\n",
       "      <td>5524</td>\n",
       "      <td>1957</td>\n",
       "      <td>Graduation</td>\n",
       "      <td>Single</td>\n",
       "      <td>58138.0</td>\n",
       "      <td>0</td>\n",
       "      <td>0</td>\n",
       "      <td>4/9/2012</td>\n",
       "      <td>58</td>\n",
       "      <td>635</td>\n",
       "      <td>...</td>\n",
       "      <td>10</td>\n",
       "      <td>4</td>\n",
       "      <td>7</td>\n",
       "      <td>0</td>\n",
       "      <td>0</td>\n",
       "      <td>0</td>\n",
       "      <td>0</td>\n",
       "      <td>0</td>\n",
       "      <td>0</td>\n",
       "      <td>1</td>\n",
       "    </tr>\n",
       "    <tr>\n",
       "      <th>1</th>\n",
       "      <td>2174</td>\n",
       "      <td>1954</td>\n",
       "      <td>Graduation</td>\n",
       "      <td>Single</td>\n",
       "      <td>46344.0</td>\n",
       "      <td>1</td>\n",
       "      <td>1</td>\n",
       "      <td>8/3/2014</td>\n",
       "      <td>38</td>\n",
       "      <td>11</td>\n",
       "      <td>...</td>\n",
       "      <td>1</td>\n",
       "      <td>2</td>\n",
       "      <td>5</td>\n",
       "      <td>0</td>\n",
       "      <td>0</td>\n",
       "      <td>0</td>\n",
       "      <td>0</td>\n",
       "      <td>0</td>\n",
       "      <td>0</td>\n",
       "      <td>0</td>\n",
       "    </tr>\n",
       "    <tr>\n",
       "      <th>2</th>\n",
       "      <td>4141</td>\n",
       "      <td>1965</td>\n",
       "      <td>Graduation</td>\n",
       "      <td>Together</td>\n",
       "      <td>71613.0</td>\n",
       "      <td>0</td>\n",
       "      <td>0</td>\n",
       "      <td>21-08-2013</td>\n",
       "      <td>26</td>\n",
       "      <td>426</td>\n",
       "      <td>...</td>\n",
       "      <td>2</td>\n",
       "      <td>10</td>\n",
       "      <td>4</td>\n",
       "      <td>0</td>\n",
       "      <td>0</td>\n",
       "      <td>0</td>\n",
       "      <td>0</td>\n",
       "      <td>0</td>\n",
       "      <td>0</td>\n",
       "      <td>0</td>\n",
       "    </tr>\n",
       "    <tr>\n",
       "      <th>3</th>\n",
       "      <td>6182</td>\n",
       "      <td>1984</td>\n",
       "      <td>Graduation</td>\n",
       "      <td>Together</td>\n",
       "      <td>26646.0</td>\n",
       "      <td>1</td>\n",
       "      <td>0</td>\n",
       "      <td>10/2/2014</td>\n",
       "      <td>26</td>\n",
       "      <td>11</td>\n",
       "      <td>...</td>\n",
       "      <td>0</td>\n",
       "      <td>4</td>\n",
       "      <td>6</td>\n",
       "      <td>0</td>\n",
       "      <td>0</td>\n",
       "      <td>0</td>\n",
       "      <td>0</td>\n",
       "      <td>0</td>\n",
       "      <td>0</td>\n",
       "      <td>0</td>\n",
       "    </tr>\n",
       "    <tr>\n",
       "      <th>4</th>\n",
       "      <td>5324</td>\n",
       "      <td>1981</td>\n",
       "      <td>PhD</td>\n",
       "      <td>Married</td>\n",
       "      <td>58293.0</td>\n",
       "      <td>1</td>\n",
       "      <td>0</td>\n",
       "      <td>19-01-2014</td>\n",
       "      <td>94</td>\n",
       "      <td>173</td>\n",
       "      <td>...</td>\n",
       "      <td>3</td>\n",
       "      <td>6</td>\n",
       "      <td>5</td>\n",
       "      <td>0</td>\n",
       "      <td>0</td>\n",
       "      <td>0</td>\n",
       "      <td>0</td>\n",
       "      <td>0</td>\n",
       "      <td>0</td>\n",
       "      <td>0</td>\n",
       "    </tr>\n",
       "  </tbody>\n",
       "</table>\n",
       "<p>5 rows × 27 columns</p>\n",
       "</div>"
      ],
      "text/plain": [
       "     ID  Year_Birth   Education Marital_Status   Income  Kidhome  Teenhome  \\\n",
       "0  5524        1957  Graduation         Single  58138.0        0         0   \n",
       "1  2174        1954  Graduation         Single  46344.0        1         1   \n",
       "2  4141        1965  Graduation       Together  71613.0        0         0   \n",
       "3  6182        1984  Graduation       Together  26646.0        1         0   \n",
       "4  5324        1981         PhD        Married  58293.0        1         0   \n",
       "\n",
       "  Dt_Customer  Recency  MntWines  ...  NumCatalogPurchases  NumStorePurchases  \\\n",
       "0    4/9/2012       58       635  ...                   10                  4   \n",
       "1    8/3/2014       38        11  ...                    1                  2   \n",
       "2  21-08-2013       26       426  ...                    2                 10   \n",
       "3   10/2/2014       26        11  ...                    0                  4   \n",
       "4  19-01-2014       94       173  ...                    3                  6   \n",
       "\n",
       "   NumWebVisitsMonth  AcceptedCmp3  AcceptedCmp4  AcceptedCmp5  AcceptedCmp1  \\\n",
       "0                  7             0             0             0             0   \n",
       "1                  5             0             0             0             0   \n",
       "2                  4             0             0             0             0   \n",
       "3                  6             0             0             0             0   \n",
       "4                  5             0             0             0             0   \n",
       "\n",
       "   AcceptedCmp2  Complain  Response  \n",
       "0             0         0         1  \n",
       "1             0         0         0  \n",
       "2             0         0         0  \n",
       "3             0         0         0  \n",
       "4             0         0         0  \n",
       "\n",
       "[5 rows x 27 columns]"
      ]
     },
     "execution_count": 2,
     "metadata": {},
     "output_type": "execute_result"
    }
   ],
   "source": [
    "df=pd.read_csv(\"marketing.csv\")\n",
    "df.head()"
   ]
  },
  {
   "cell_type": "code",
   "execution_count": 3,
   "id": "39b6669d",
   "metadata": {},
   "outputs": [
    {
     "name": "stdout",
     "output_type": "stream",
     "text": [
      "<class 'pandas.core.frame.DataFrame'>\n",
      "RangeIndex: 2240 entries, 0 to 2239\n",
      "Data columns (total 27 columns):\n",
      " #   Column               Non-Null Count  Dtype  \n",
      "---  ------               --------------  -----  \n",
      " 0   ID                   2240 non-null   int64  \n",
      " 1   Year_Birth           2240 non-null   int64  \n",
      " 2   Education            2240 non-null   object \n",
      " 3   Marital_Status       2240 non-null   object \n",
      " 4   Income               2216 non-null   float64\n",
      " 5   Kidhome              2240 non-null   int64  \n",
      " 6   Teenhome             2240 non-null   int64  \n",
      " 7   Dt_Customer          2240 non-null   object \n",
      " 8   Recency              2240 non-null   int64  \n",
      " 9   MntWines             2240 non-null   int64  \n",
      " 10  MntFruits            2240 non-null   int64  \n",
      " 11  MntMeatProducts      2240 non-null   int64  \n",
      " 12  MntFishProducts      2240 non-null   int64  \n",
      " 13  MntSweetProducts     2240 non-null   int64  \n",
      " 14  MntGoldProds         2240 non-null   int64  \n",
      " 15  NumDealsPurchases    2240 non-null   int64  \n",
      " 16  NumWebPurchases      2240 non-null   int64  \n",
      " 17  NumCatalogPurchases  2240 non-null   int64  \n",
      " 18  NumStorePurchases    2240 non-null   int64  \n",
      " 19  NumWebVisitsMonth    2240 non-null   int64  \n",
      " 20  AcceptedCmp3         2240 non-null   int64  \n",
      " 21  AcceptedCmp4         2240 non-null   int64  \n",
      " 22  AcceptedCmp5         2240 non-null   int64  \n",
      " 23  AcceptedCmp1         2240 non-null   int64  \n",
      " 24  AcceptedCmp2         2240 non-null   int64  \n",
      " 25  Complain             2240 non-null   int64  \n",
      " 26  Response             2240 non-null   int64  \n",
      "dtypes: float64(1), int64(23), object(3)\n",
      "memory usage: 472.6+ KB\n"
     ]
    }
   ],
   "source": [
    "df.info()"
   ]
  },
  {
   "cell_type": "code",
   "execution_count": 5,
   "id": "b5f0c714",
   "metadata": {},
   "outputs": [
    {
     "data": {
      "text/plain": [
       "(2240, 27)"
      ]
     },
     "execution_count": 5,
     "metadata": {},
     "output_type": "execute_result"
    }
   ],
   "source": [
    "df.shape"
   ]
  },
  {
   "cell_type": "markdown",
   "id": "9ef75724",
   "metadata": {
    "id": "9ef75724"
   },
   "source": [
    "### 3. Check the percentage of missing values? If there is presence of missing values, treat them accordingly."
   ]
  },
  {
   "cell_type": "code",
   "execution_count": 6,
   "id": "f2c231df",
   "metadata": {
    "id": "f2c231df"
   },
   "outputs": [
    {
     "data": {
      "text/plain": [
       "ID                     0.000000\n",
       "Year_Birth             0.000000\n",
       "Education              0.000000\n",
       "Marital_Status         0.000000\n",
       "Income                 1.071429\n",
       "Kidhome                0.000000\n",
       "Teenhome               0.000000\n",
       "Dt_Customer            0.000000\n",
       "Recency                0.000000\n",
       "MntWines               0.000000\n",
       "MntFruits              0.000000\n",
       "MntMeatProducts        0.000000\n",
       "MntFishProducts        0.000000\n",
       "MntSweetProducts       0.000000\n",
       "MntGoldProds           0.000000\n",
       "NumDealsPurchases      0.000000\n",
       "NumWebPurchases        0.000000\n",
       "NumCatalogPurchases    0.000000\n",
       "NumStorePurchases      0.000000\n",
       "NumWebVisitsMonth      0.000000\n",
       "AcceptedCmp3           0.000000\n",
       "AcceptedCmp4           0.000000\n",
       "AcceptedCmp5           0.000000\n",
       "AcceptedCmp1           0.000000\n",
       "AcceptedCmp2           0.000000\n",
       "Complain               0.000000\n",
       "Response               0.000000\n",
       "dtype: float64"
      ]
     },
     "execution_count": 6,
     "metadata": {},
     "output_type": "execute_result"
    }
   ],
   "source": [
    "df.isnull().sum()/len(df)*100"
   ]
  },
  {
   "cell_type": "code",
   "execution_count": 7,
   "id": "cbb0d7d5",
   "metadata": {},
   "outputs": [],
   "source": [
    "df['Income']=df['Income'].fillna(df['Income'].mean())"
   ]
  },
  {
   "cell_type": "code",
   "execution_count": 8,
   "id": "c2bb216f",
   "metadata": {},
   "outputs": [
    {
     "data": {
      "text/plain": [
       "ID                     0.0\n",
       "Year_Birth             0.0\n",
       "Education              0.0\n",
       "Marital_Status         0.0\n",
       "Income                 0.0\n",
       "Kidhome                0.0\n",
       "Teenhome               0.0\n",
       "Dt_Customer            0.0\n",
       "Recency                0.0\n",
       "MntWines               0.0\n",
       "MntFruits              0.0\n",
       "MntMeatProducts        0.0\n",
       "MntFishProducts        0.0\n",
       "MntSweetProducts       0.0\n",
       "MntGoldProds           0.0\n",
       "NumDealsPurchases      0.0\n",
       "NumWebPurchases        0.0\n",
       "NumCatalogPurchases    0.0\n",
       "NumStorePurchases      0.0\n",
       "NumWebVisitsMonth      0.0\n",
       "AcceptedCmp3           0.0\n",
       "AcceptedCmp4           0.0\n",
       "AcceptedCmp5           0.0\n",
       "AcceptedCmp1           0.0\n",
       "AcceptedCmp2           0.0\n",
       "Complain               0.0\n",
       "Response               0.0\n",
       "dtype: float64"
      ]
     },
     "execution_count": 8,
     "metadata": {},
     "output_type": "execute_result"
    }
   ],
   "source": [
    "df.isnull().sum()/len(df)*100"
   ]
  },
  {
   "cell_type": "markdown",
   "id": "86f3709e",
   "metadata": {
    "id": "86f3709e"
   },
   "source": [
    "### 4. Check if there are any duplicate records in the dataset? If any drop them."
   ]
  },
  {
   "cell_type": "code",
   "execution_count": 9,
   "id": "2970671a",
   "metadata": {
    "id": "2970671a"
   },
   "outputs": [
    {
     "data": {
      "text/plain": [
       "0"
      ]
     },
     "execution_count": 9,
     "metadata": {},
     "output_type": "execute_result"
    }
   ],
   "source": [
    "len(df[df.duplicated()])"
   ]
  },
  {
   "cell_type": "markdown",
   "id": "56e34e4a",
   "metadata": {},
   "source": [
    "No duplicate records."
   ]
  },
  {
   "cell_type": "markdown",
   "id": "3a6f2b5a",
   "metadata": {
    "id": "3a6f2b5a"
   },
   "source": [
    "### 5. Drop the columns which you think redundant for the analysis "
   ]
  },
  {
   "cell_type": "code",
   "execution_count": 10,
   "id": "a9ca818b",
   "metadata": {
    "id": "a9ca818b"
   },
   "outputs": [
    {
     "data": {
      "text/plain": [
       "Index(['ID', 'Year_Birth', 'Education', 'Marital_Status', 'Income', 'Kidhome',\n",
       "       'Teenhome', 'Dt_Customer', 'Recency', 'MntWines', 'MntFruits',\n",
       "       'MntMeatProducts', 'MntFishProducts', 'MntSweetProducts',\n",
       "       'MntGoldProds', 'NumDealsPurchases', 'NumWebPurchases',\n",
       "       'NumCatalogPurchases', 'NumStorePurchases', 'NumWebVisitsMonth',\n",
       "       'AcceptedCmp3', 'AcceptedCmp4', 'AcceptedCmp5', 'AcceptedCmp1',\n",
       "       'AcceptedCmp2', 'Complain', 'Response'],\n",
       "      dtype='object')"
      ]
     },
     "execution_count": 10,
     "metadata": {},
     "output_type": "execute_result"
    }
   ],
   "source": [
    "df.columns"
   ]
  },
  {
   "cell_type": "code",
   "execution_count": 11,
   "id": "2e6c6906",
   "metadata": {},
   "outputs": [],
   "source": [
    "df=df.drop(['ID','Dt_Customer'],axis=1)"
   ]
  },
  {
   "cell_type": "code",
   "execution_count": 12,
   "id": "f6990735",
   "metadata": {},
   "outputs": [
    {
     "data": {
      "text/html": [
       "<div>\n",
       "<style scoped>\n",
       "    .dataframe tbody tr th:only-of-type {\n",
       "        vertical-align: middle;\n",
       "    }\n",
       "\n",
       "    .dataframe tbody tr th {\n",
       "        vertical-align: top;\n",
       "    }\n",
       "\n",
       "    .dataframe thead th {\n",
       "        text-align: right;\n",
       "    }\n",
       "</style>\n",
       "<table border=\"1\" class=\"dataframe\">\n",
       "  <thead>\n",
       "    <tr style=\"text-align: right;\">\n",
       "      <th></th>\n",
       "      <th>Year_Birth</th>\n",
       "      <th>Education</th>\n",
       "      <th>Marital_Status</th>\n",
       "      <th>Income</th>\n",
       "      <th>Kidhome</th>\n",
       "      <th>Teenhome</th>\n",
       "      <th>Recency</th>\n",
       "      <th>MntWines</th>\n",
       "      <th>MntFruits</th>\n",
       "      <th>MntMeatProducts</th>\n",
       "      <th>...</th>\n",
       "      <th>NumCatalogPurchases</th>\n",
       "      <th>NumStorePurchases</th>\n",
       "      <th>NumWebVisitsMonth</th>\n",
       "      <th>AcceptedCmp3</th>\n",
       "      <th>AcceptedCmp4</th>\n",
       "      <th>AcceptedCmp5</th>\n",
       "      <th>AcceptedCmp1</th>\n",
       "      <th>AcceptedCmp2</th>\n",
       "      <th>Complain</th>\n",
       "      <th>Response</th>\n",
       "    </tr>\n",
       "  </thead>\n",
       "  <tbody>\n",
       "    <tr>\n",
       "      <th>0</th>\n",
       "      <td>1957</td>\n",
       "      <td>Graduation</td>\n",
       "      <td>Single</td>\n",
       "      <td>58138.0</td>\n",
       "      <td>0</td>\n",
       "      <td>0</td>\n",
       "      <td>58</td>\n",
       "      <td>635</td>\n",
       "      <td>88</td>\n",
       "      <td>546</td>\n",
       "      <td>...</td>\n",
       "      <td>10</td>\n",
       "      <td>4</td>\n",
       "      <td>7</td>\n",
       "      <td>0</td>\n",
       "      <td>0</td>\n",
       "      <td>0</td>\n",
       "      <td>0</td>\n",
       "      <td>0</td>\n",
       "      <td>0</td>\n",
       "      <td>1</td>\n",
       "    </tr>\n",
       "    <tr>\n",
       "      <th>1</th>\n",
       "      <td>1954</td>\n",
       "      <td>Graduation</td>\n",
       "      <td>Single</td>\n",
       "      <td>46344.0</td>\n",
       "      <td>1</td>\n",
       "      <td>1</td>\n",
       "      <td>38</td>\n",
       "      <td>11</td>\n",
       "      <td>1</td>\n",
       "      <td>6</td>\n",
       "      <td>...</td>\n",
       "      <td>1</td>\n",
       "      <td>2</td>\n",
       "      <td>5</td>\n",
       "      <td>0</td>\n",
       "      <td>0</td>\n",
       "      <td>0</td>\n",
       "      <td>0</td>\n",
       "      <td>0</td>\n",
       "      <td>0</td>\n",
       "      <td>0</td>\n",
       "    </tr>\n",
       "    <tr>\n",
       "      <th>2</th>\n",
       "      <td>1965</td>\n",
       "      <td>Graduation</td>\n",
       "      <td>Together</td>\n",
       "      <td>71613.0</td>\n",
       "      <td>0</td>\n",
       "      <td>0</td>\n",
       "      <td>26</td>\n",
       "      <td>426</td>\n",
       "      <td>49</td>\n",
       "      <td>127</td>\n",
       "      <td>...</td>\n",
       "      <td>2</td>\n",
       "      <td>10</td>\n",
       "      <td>4</td>\n",
       "      <td>0</td>\n",
       "      <td>0</td>\n",
       "      <td>0</td>\n",
       "      <td>0</td>\n",
       "      <td>0</td>\n",
       "      <td>0</td>\n",
       "      <td>0</td>\n",
       "    </tr>\n",
       "    <tr>\n",
       "      <th>3</th>\n",
       "      <td>1984</td>\n",
       "      <td>Graduation</td>\n",
       "      <td>Together</td>\n",
       "      <td>26646.0</td>\n",
       "      <td>1</td>\n",
       "      <td>0</td>\n",
       "      <td>26</td>\n",
       "      <td>11</td>\n",
       "      <td>4</td>\n",
       "      <td>20</td>\n",
       "      <td>...</td>\n",
       "      <td>0</td>\n",
       "      <td>4</td>\n",
       "      <td>6</td>\n",
       "      <td>0</td>\n",
       "      <td>0</td>\n",
       "      <td>0</td>\n",
       "      <td>0</td>\n",
       "      <td>0</td>\n",
       "      <td>0</td>\n",
       "      <td>0</td>\n",
       "    </tr>\n",
       "    <tr>\n",
       "      <th>4</th>\n",
       "      <td>1981</td>\n",
       "      <td>PhD</td>\n",
       "      <td>Married</td>\n",
       "      <td>58293.0</td>\n",
       "      <td>1</td>\n",
       "      <td>0</td>\n",
       "      <td>94</td>\n",
       "      <td>173</td>\n",
       "      <td>43</td>\n",
       "      <td>118</td>\n",
       "      <td>...</td>\n",
       "      <td>3</td>\n",
       "      <td>6</td>\n",
       "      <td>5</td>\n",
       "      <td>0</td>\n",
       "      <td>0</td>\n",
       "      <td>0</td>\n",
       "      <td>0</td>\n",
       "      <td>0</td>\n",
       "      <td>0</td>\n",
       "      <td>0</td>\n",
       "    </tr>\n",
       "  </tbody>\n",
       "</table>\n",
       "<p>5 rows × 25 columns</p>\n",
       "</div>"
      ],
      "text/plain": [
       "   Year_Birth   Education Marital_Status   Income  Kidhome  Teenhome  Recency  \\\n",
       "0        1957  Graduation         Single  58138.0        0         0       58   \n",
       "1        1954  Graduation         Single  46344.0        1         1       38   \n",
       "2        1965  Graduation       Together  71613.0        0         0       26   \n",
       "3        1984  Graduation       Together  26646.0        1         0       26   \n",
       "4        1981         PhD        Married  58293.0        1         0       94   \n",
       "\n",
       "   MntWines  MntFruits  MntMeatProducts  ...  NumCatalogPurchases  \\\n",
       "0       635         88              546  ...                   10   \n",
       "1        11          1                6  ...                    1   \n",
       "2       426         49              127  ...                    2   \n",
       "3        11          4               20  ...                    0   \n",
       "4       173         43              118  ...                    3   \n",
       "\n",
       "   NumStorePurchases  NumWebVisitsMonth  AcceptedCmp3  AcceptedCmp4  \\\n",
       "0                  4                  7             0             0   \n",
       "1                  2                  5             0             0   \n",
       "2                 10                  4             0             0   \n",
       "3                  4                  6             0             0   \n",
       "4                  6                  5             0             0   \n",
       "\n",
       "   AcceptedCmp5  AcceptedCmp1  AcceptedCmp2  Complain  Response  \n",
       "0             0             0             0         0         1  \n",
       "1             0             0             0         0         0  \n",
       "2             0             0             0         0         0  \n",
       "3             0             0             0         0         0  \n",
       "4             0             0             0         0         0  \n",
       "\n",
       "[5 rows x 25 columns]"
      ]
     },
     "execution_count": 12,
     "metadata": {},
     "output_type": "execute_result"
    }
   ],
   "source": [
    "df.head()"
   ]
  },
  {
   "cell_type": "markdown",
   "id": "4ff0a112",
   "metadata": {
    "id": "4ff0a112"
   },
   "source": [
    "### 6. Check the unique categories in the column 'Marital_Status'\n",
    "- i) Group categories 'Married', 'Together' as 'relationship'\n",
    "- ii) Group categories 'Divorced', 'Widow', 'Alone', 'YOLO', and 'Absurd' as 'Single'."
   ]
  },
  {
   "cell_type": "code",
   "execution_count": 13,
   "id": "eb1be519",
   "metadata": {
    "id": "eb1be519"
   },
   "outputs": [
    {
     "data": {
      "text/plain": [
       "array(['Single', 'Together', 'Married', 'Divorced', 'Widow', 'Alone',\n",
       "       'Absurd', 'YOLO'], dtype=object)"
      ]
     },
     "execution_count": 13,
     "metadata": {},
     "output_type": "execute_result"
    }
   ],
   "source": [
    "\n",
    "df['Marital_Status'].unique()\n"
   ]
  },
  {
   "cell_type": "code",
   "execution_count": 14,
   "id": "6e6a9a3c",
   "metadata": {},
   "outputs": [
    {
     "data": {
      "text/plain": [
       "relationship    1444\n",
       "Single           480\n",
       "Divorced         232\n",
       "Widow             77\n",
       "Alone              3\n",
       "Absurd             2\n",
       "YOLO               2\n",
       "Name: Marital_Status, dtype: int64"
      ]
     },
     "execution_count": 14,
     "metadata": {},
     "output_type": "execute_result"
    }
   ],
   "source": [
    "df['Marital_Status'] =df['Marital_Status'].replace([ 'Married', 'Together' ],  'relationship' )\n",
    "df.Marital_Status.value_counts()"
   ]
  },
  {
   "cell_type": "code",
   "execution_count": 15,
   "id": "6cc67efe",
   "metadata": {},
   "outputs": [
    {
     "data": {
      "text/plain": [
       "relationship    1444\n",
       "Single           796\n",
       "Name: Marital_Status, dtype: int64"
      ]
     },
     "execution_count": 15,
     "metadata": {},
     "output_type": "execute_result"
    }
   ],
   "source": [
    "df['Marital_Status'] =df['Marital_Status'].replace([ 'Divorced', 'Widow', 'Alone', 'YOLO','Absurd'],'Single')\n",
    "df.Marital_Status.value_counts()"
   ]
  },
  {
   "cell_type": "markdown",
   "id": "9566bfbe",
   "metadata": {
    "id": "9566bfbe"
   },
   "source": [
    "### 7. Group the columns 'MntWines', 'MntFruits', 'MntMeatProducts', 'MntFishProducts', 'MntSweetProducts', and 'MntGoldProds' as 'Total_Expenses'"
   ]
  },
  {
   "cell_type": "code",
   "execution_count": 16,
   "id": "03bf8e3e",
   "metadata": {},
   "outputs": [],
   "source": [
    "df1=df"
   ]
  },
  {
   "cell_type": "code",
   "execution_count": 17,
   "id": "3c3fa800",
   "metadata": {
    "id": "3c3fa800"
   },
   "outputs": [
    {
     "data": {
      "text/plain": [
       "0       1617\n",
       "1         27\n",
       "2        776\n",
       "3         53\n",
       "4        422\n",
       "        ... \n",
       "2235    1341\n",
       "2236     444\n",
       "2237    1241\n",
       "2238     843\n",
       "2239     172\n",
       "Name: Total_Expenses, Length: 2240, dtype: int64"
      ]
     },
     "execution_count": 17,
     "metadata": {},
     "output_type": "execute_result"
    }
   ],
   "source": [
    "df1['Total_Expenses']=df1['MntWines']+df1['MntFruits']+df1['MntMeatProducts']+df1['MntFishProducts']+df1['MntSweetProducts']+df1['MntGoldProds']\n",
    "df1['Total_Expenses']"
   ]
  },
  {
   "cell_type": "markdown",
   "id": "bf0cd083",
   "metadata": {
    "id": "bf0cd083"
   },
   "source": [
    "### 8. Group the columns 'NumWebPurchases', 'NumCatalogPurchases', 'NumStorePurchases', and 'NumDealsPurchases' as 'Num_Total_Purchases'"
   ]
  },
  {
   "cell_type": "code",
   "execution_count": 18,
   "id": "9c535ede",
   "metadata": {
    "id": "9c535ede"
   },
   "outputs": [
    {
     "data": {
      "text/plain": [
       "0       25\n",
       "1        6\n",
       "2       21\n",
       "3        8\n",
       "4       19\n",
       "        ..\n",
       "2235    18\n",
       "2236    22\n",
       "2237    19\n",
       "2238    23\n",
       "2239    11\n",
       "Name: Num_Total_Purchases, Length: 2240, dtype: int64"
      ]
     },
     "execution_count": 18,
     "metadata": {},
     "output_type": "execute_result"
    }
   ],
   "source": [
    "df1['Num_Total_Purchases']=df1['NumWebPurchases']+df1['NumCatalogPurchases']+df1['NumStorePurchases']+df1['NumDealsPurchases']\n",
    "df1['Num_Total_Purchases']   "
   ]
  },
  {
   "cell_type": "markdown",
   "id": "52d2dca5",
   "metadata": {
    "id": "52d2dca5"
   },
   "source": [
    "### 9. Group the columns 'Kidhome' and 'Teenhome' as 'Kids'"
   ]
  },
  {
   "cell_type": "code",
   "execution_count": 19,
   "id": "f7c861a1",
   "metadata": {
    "id": "f7c861a1"
   },
   "outputs": [
    {
     "data": {
      "text/plain": [
       "0       0\n",
       "1       2\n",
       "2       0\n",
       "3       1\n",
       "4       1\n",
       "       ..\n",
       "2235    1\n",
       "2236    3\n",
       "2237    0\n",
       "2238    1\n",
       "2239    2\n",
       "Name: Kids, Length: 2240, dtype: int64"
      ]
     },
     "execution_count": 19,
     "metadata": {},
     "output_type": "execute_result"
    }
   ],
   "source": [
    "df1['Kids']=df1['Teenhome']+df1[ 'Kidhome']\n",
    "df1['Kids']"
   ]
  },
  {
   "cell_type": "markdown",
   "id": "36f67474",
   "metadata": {
    "id": "36f67474"
   },
   "source": [
    "### 10. Group columns 'AcceptedCmp1 , 2 , 3 , 4, 5' and 'Response' as 'TotalAcceptedCmp'"
   ]
  },
  {
   "cell_type": "code",
   "execution_count": 20,
   "id": "ecc9109f",
   "metadata": {
    "id": "ecc9109f"
   },
   "outputs": [
    {
     "data": {
      "text/plain": [
       "0       1\n",
       "1       0\n",
       "2       0\n",
       "3       0\n",
       "4       0\n",
       "       ..\n",
       "2235    0\n",
       "2236    1\n",
       "2237    1\n",
       "2238    0\n",
       "2239    1\n",
       "Name: TotalAcceptedCmp, Length: 2240, dtype: int64"
      ]
     },
     "execution_count": 20,
     "metadata": {},
     "output_type": "execute_result"
    }
   ],
   "source": [
    "df1['TotalAcceptedCmp']=df1[ 'AcceptedCmp1']+df1[ 'AcceptedCmp2']+df1[ 'AcceptedCmp3']+df1[ 'AcceptedCmp4']+df1[ 'AcceptedCmp5']+df1['Response']\n",
    "df1['TotalAcceptedCmp']"
   ]
  },
  {
   "cell_type": "markdown",
   "id": "886bfb08",
   "metadata": {
    "id": "886bfb08"
   },
   "source": [
    "### 11. Drop those columns which we have used above for obtaining new features"
   ]
  },
  {
   "cell_type": "code",
   "execution_count": 21,
   "id": "e853e663",
   "metadata": {
    "id": "e853e663"
   },
   "outputs": [
    {
     "data": {
      "text/html": [
       "<div>\n",
       "<style scoped>\n",
       "    .dataframe tbody tr th:only-of-type {\n",
       "        vertical-align: middle;\n",
       "    }\n",
       "\n",
       "    .dataframe tbody tr th {\n",
       "        vertical-align: top;\n",
       "    }\n",
       "\n",
       "    .dataframe thead th {\n",
       "        text-align: right;\n",
       "    }\n",
       "</style>\n",
       "<table border=\"1\" class=\"dataframe\">\n",
       "  <thead>\n",
       "    <tr style=\"text-align: right;\">\n",
       "      <th></th>\n",
       "      <th>Year_Birth</th>\n",
       "      <th>Education</th>\n",
       "      <th>Marital_Status</th>\n",
       "      <th>Income</th>\n",
       "      <th>Recency</th>\n",
       "      <th>NumWebVisitsMonth</th>\n",
       "      <th>Complain</th>\n",
       "      <th>Total_Expenses</th>\n",
       "      <th>Num_Total_Purchases</th>\n",
       "      <th>Kids</th>\n",
       "      <th>TotalAcceptedCmp</th>\n",
       "    </tr>\n",
       "  </thead>\n",
       "  <tbody>\n",
       "    <tr>\n",
       "      <th>0</th>\n",
       "      <td>1957</td>\n",
       "      <td>Graduation</td>\n",
       "      <td>Single</td>\n",
       "      <td>58138.0</td>\n",
       "      <td>58</td>\n",
       "      <td>7</td>\n",
       "      <td>0</td>\n",
       "      <td>1617</td>\n",
       "      <td>25</td>\n",
       "      <td>0</td>\n",
       "      <td>1</td>\n",
       "    </tr>\n",
       "    <tr>\n",
       "      <th>1</th>\n",
       "      <td>1954</td>\n",
       "      <td>Graduation</td>\n",
       "      <td>Single</td>\n",
       "      <td>46344.0</td>\n",
       "      <td>38</td>\n",
       "      <td>5</td>\n",
       "      <td>0</td>\n",
       "      <td>27</td>\n",
       "      <td>6</td>\n",
       "      <td>2</td>\n",
       "      <td>0</td>\n",
       "    </tr>\n",
       "    <tr>\n",
       "      <th>2</th>\n",
       "      <td>1965</td>\n",
       "      <td>Graduation</td>\n",
       "      <td>relationship</td>\n",
       "      <td>71613.0</td>\n",
       "      <td>26</td>\n",
       "      <td>4</td>\n",
       "      <td>0</td>\n",
       "      <td>776</td>\n",
       "      <td>21</td>\n",
       "      <td>0</td>\n",
       "      <td>0</td>\n",
       "    </tr>\n",
       "    <tr>\n",
       "      <th>3</th>\n",
       "      <td>1984</td>\n",
       "      <td>Graduation</td>\n",
       "      <td>relationship</td>\n",
       "      <td>26646.0</td>\n",
       "      <td>26</td>\n",
       "      <td>6</td>\n",
       "      <td>0</td>\n",
       "      <td>53</td>\n",
       "      <td>8</td>\n",
       "      <td>1</td>\n",
       "      <td>0</td>\n",
       "    </tr>\n",
       "    <tr>\n",
       "      <th>4</th>\n",
       "      <td>1981</td>\n",
       "      <td>PhD</td>\n",
       "      <td>relationship</td>\n",
       "      <td>58293.0</td>\n",
       "      <td>94</td>\n",
       "      <td>5</td>\n",
       "      <td>0</td>\n",
       "      <td>422</td>\n",
       "      <td>19</td>\n",
       "      <td>1</td>\n",
       "      <td>0</td>\n",
       "    </tr>\n",
       "  </tbody>\n",
       "</table>\n",
       "</div>"
      ],
      "text/plain": [
       "   Year_Birth   Education Marital_Status   Income  Recency  NumWebVisitsMonth  \\\n",
       "0        1957  Graduation         Single  58138.0       58                  7   \n",
       "1        1954  Graduation         Single  46344.0       38                  5   \n",
       "2        1965  Graduation   relationship  71613.0       26                  4   \n",
       "3        1984  Graduation   relationship  26646.0       26                  6   \n",
       "4        1981         PhD   relationship  58293.0       94                  5   \n",
       "\n",
       "   Complain  Total_Expenses  Num_Total_Purchases  Kids  TotalAcceptedCmp  \n",
       "0         0            1617                   25     0                 1  \n",
       "1         0              27                    6     2                 0  \n",
       "2         0             776                   21     0                 0  \n",
       "3         0              53                    8     1                 0  \n",
       "4         0             422                   19     1                 0  "
      ]
     },
     "execution_count": 21,
     "metadata": {},
     "output_type": "execute_result"
    }
   ],
   "source": [
    "df1=df1.drop(['MntWines', 'MntFruits', 'MntMeatProducts', 'MntFishProducts', 'MntSweetProducts','MntGoldProds','NumWebPurchases', 'NumCatalogPurchases', 'NumStorePurchases','NumDealsPurchases','Kidhome','Teenhome','AcceptedCmp1','AcceptedCmp2','AcceptedCmp3','AcceptedCmp4','AcceptedCmp5','Response'],axis=1) \n",
    "df1.head()"
   ]
  },
  {
   "cell_type": "markdown",
   "id": "4225ced7",
   "metadata": {
    "id": "4225ced7"
   },
   "source": [
    "### 12. Extract 'age' using the column 'Year_Birth' and then drop the column 'Year_birth'"
   ]
  },
  {
   "cell_type": "code",
   "execution_count": 22,
   "id": "d517611e",
   "metadata": {
    "id": "d517611e"
   },
   "outputs": [
    {
     "data": {
      "text/plain": [
       "0       65\n",
       "1       68\n",
       "2       57\n",
       "3       38\n",
       "4       41\n",
       "        ..\n",
       "2235    55\n",
       "2236    76\n",
       "2237    41\n",
       "2238    66\n",
       "2239    68\n",
       "Name: age, Length: 2240, dtype: int64"
      ]
     },
     "execution_count": 22,
     "metadata": {},
     "output_type": "execute_result"
    }
   ],
   "source": [
    "df1[\"age\"] = 2022-df1['Year_Birth']\n",
    "df1[\"age\"]"
   ]
  },
  {
   "cell_type": "code",
   "execution_count": 23,
   "id": "00822ca4",
   "metadata": {},
   "outputs": [],
   "source": [
    "df1=df1.drop(['Year_Birth'],axis=1)"
   ]
  },
  {
   "cell_type": "code",
   "execution_count": 24,
   "id": "82b2d963",
   "metadata": {
    "scrolled": true
   },
   "outputs": [
    {
     "data": {
      "text/html": [
       "<div>\n",
       "<style scoped>\n",
       "    .dataframe tbody tr th:only-of-type {\n",
       "        vertical-align: middle;\n",
       "    }\n",
       "\n",
       "    .dataframe tbody tr th {\n",
       "        vertical-align: top;\n",
       "    }\n",
       "\n",
       "    .dataframe thead th {\n",
       "        text-align: right;\n",
       "    }\n",
       "</style>\n",
       "<table border=\"1\" class=\"dataframe\">\n",
       "  <thead>\n",
       "    <tr style=\"text-align: right;\">\n",
       "      <th></th>\n",
       "      <th>Education</th>\n",
       "      <th>Marital_Status</th>\n",
       "      <th>Income</th>\n",
       "      <th>Recency</th>\n",
       "      <th>NumWebVisitsMonth</th>\n",
       "      <th>Complain</th>\n",
       "      <th>Total_Expenses</th>\n",
       "      <th>Num_Total_Purchases</th>\n",
       "      <th>Kids</th>\n",
       "      <th>TotalAcceptedCmp</th>\n",
       "      <th>age</th>\n",
       "    </tr>\n",
       "  </thead>\n",
       "  <tbody>\n",
       "    <tr>\n",
       "      <th>0</th>\n",
       "      <td>Graduation</td>\n",
       "      <td>Single</td>\n",
       "      <td>58138.0</td>\n",
       "      <td>58</td>\n",
       "      <td>7</td>\n",
       "      <td>0</td>\n",
       "      <td>1617</td>\n",
       "      <td>25</td>\n",
       "      <td>0</td>\n",
       "      <td>1</td>\n",
       "      <td>65</td>\n",
       "    </tr>\n",
       "    <tr>\n",
       "      <th>1</th>\n",
       "      <td>Graduation</td>\n",
       "      <td>Single</td>\n",
       "      <td>46344.0</td>\n",
       "      <td>38</td>\n",
       "      <td>5</td>\n",
       "      <td>0</td>\n",
       "      <td>27</td>\n",
       "      <td>6</td>\n",
       "      <td>2</td>\n",
       "      <td>0</td>\n",
       "      <td>68</td>\n",
       "    </tr>\n",
       "    <tr>\n",
       "      <th>2</th>\n",
       "      <td>Graduation</td>\n",
       "      <td>relationship</td>\n",
       "      <td>71613.0</td>\n",
       "      <td>26</td>\n",
       "      <td>4</td>\n",
       "      <td>0</td>\n",
       "      <td>776</td>\n",
       "      <td>21</td>\n",
       "      <td>0</td>\n",
       "      <td>0</td>\n",
       "      <td>57</td>\n",
       "    </tr>\n",
       "    <tr>\n",
       "      <th>3</th>\n",
       "      <td>Graduation</td>\n",
       "      <td>relationship</td>\n",
       "      <td>26646.0</td>\n",
       "      <td>26</td>\n",
       "      <td>6</td>\n",
       "      <td>0</td>\n",
       "      <td>53</td>\n",
       "      <td>8</td>\n",
       "      <td>1</td>\n",
       "      <td>0</td>\n",
       "      <td>38</td>\n",
       "    </tr>\n",
       "    <tr>\n",
       "      <th>4</th>\n",
       "      <td>PhD</td>\n",
       "      <td>relationship</td>\n",
       "      <td>58293.0</td>\n",
       "      <td>94</td>\n",
       "      <td>5</td>\n",
       "      <td>0</td>\n",
       "      <td>422</td>\n",
       "      <td>19</td>\n",
       "      <td>1</td>\n",
       "      <td>0</td>\n",
       "      <td>41</td>\n",
       "    </tr>\n",
       "  </tbody>\n",
       "</table>\n",
       "</div>"
      ],
      "text/plain": [
       "    Education Marital_Status   Income  Recency  NumWebVisitsMonth  Complain  \\\n",
       "0  Graduation         Single  58138.0       58                  7         0   \n",
       "1  Graduation         Single  46344.0       38                  5         0   \n",
       "2  Graduation   relationship  71613.0       26                  4         0   \n",
       "3  Graduation   relationship  26646.0       26                  6         0   \n",
       "4         PhD   relationship  58293.0       94                  5         0   \n",
       "\n",
       "   Total_Expenses  Num_Total_Purchases  Kids  TotalAcceptedCmp  age  \n",
       "0            1617                   25     0                 1   65  \n",
       "1              27                    6     2                 0   68  \n",
       "2             776                   21     0                 0   57  \n",
       "3              53                    8     1                 0   38  \n",
       "4             422                   19     1                 0   41  "
      ]
     },
     "execution_count": 24,
     "metadata": {},
     "output_type": "execute_result"
    }
   ],
   "source": [
    "df1.head()"
   ]
  },
  {
   "cell_type": "code",
   "execution_count": 25,
   "id": "641934de",
   "metadata": {},
   "outputs": [
    {
     "name": "stdout",
     "output_type": "stream",
     "text": [
      "<class 'pandas.core.frame.DataFrame'>\n",
      "RangeIndex: 2240 entries, 0 to 2239\n",
      "Data columns (total 11 columns):\n",
      " #   Column               Non-Null Count  Dtype  \n",
      "---  ------               --------------  -----  \n",
      " 0   Education            2240 non-null   object \n",
      " 1   Marital_Status       2240 non-null   object \n",
      " 2   Income               2240 non-null   float64\n",
      " 3   Recency              2240 non-null   int64  \n",
      " 4   NumWebVisitsMonth    2240 non-null   int64  \n",
      " 5   Complain             2240 non-null   int64  \n",
      " 6   Total_Expenses       2240 non-null   int64  \n",
      " 7   Num_Total_Purchases  2240 non-null   int64  \n",
      " 8   Kids                 2240 non-null   int64  \n",
      " 9   TotalAcceptedCmp     2240 non-null   int64  \n",
      " 10  age                  2240 non-null   int64  \n",
      "dtypes: float64(1), int64(8), object(2)\n",
      "memory usage: 192.6+ KB\n"
     ]
    }
   ],
   "source": [
    "df1.info()"
   ]
  },
  {
   "cell_type": "markdown",
   "id": "f2d3c92d",
   "metadata": {
    "id": "f2d3c92d"
   },
   "source": [
    "### 13. Encode the categorical variables in the dataset"
   ]
  },
  {
   "cell_type": "code",
   "execution_count": 26,
   "id": "030cfc32",
   "metadata": {
    "id": "030cfc32"
   },
   "outputs": [
    {
     "data": {
      "text/plain": [
       "Index(['Education', 'Marital_Status'], dtype='object')"
      ]
     },
     "execution_count": 26,
     "metadata": {},
     "output_type": "execute_result"
    }
   ],
   "source": [
    "df.select_dtypes('object').columns"
   ]
  },
  {
   "cell_type": "code",
   "execution_count": 27,
   "id": "c3809a12",
   "metadata": {},
   "outputs": [],
   "source": [
    "from sklearn.preprocessing import LabelEncoder\n",
    "for col in df.select_dtypes('object').columns:\n",
    "    le=LabelEncoder()\n",
    "    df[col]=le.fit_transform(df[col])"
   ]
  },
  {
   "cell_type": "code",
   "execution_count": 28,
   "id": "71cc6672",
   "metadata": {},
   "outputs": [
    {
     "data": {
      "text/html": [
       "<div>\n",
       "<style scoped>\n",
       "    .dataframe tbody tr th:only-of-type {\n",
       "        vertical-align: middle;\n",
       "    }\n",
       "\n",
       "    .dataframe tbody tr th {\n",
       "        vertical-align: top;\n",
       "    }\n",
       "\n",
       "    .dataframe thead th {\n",
       "        text-align: right;\n",
       "    }\n",
       "</style>\n",
       "<table border=\"1\" class=\"dataframe\">\n",
       "  <thead>\n",
       "    <tr style=\"text-align: right;\">\n",
       "      <th></th>\n",
       "      <th>Year_Birth</th>\n",
       "      <th>Education</th>\n",
       "      <th>Marital_Status</th>\n",
       "      <th>Income</th>\n",
       "      <th>Kidhome</th>\n",
       "      <th>Teenhome</th>\n",
       "      <th>Recency</th>\n",
       "      <th>MntWines</th>\n",
       "      <th>MntFruits</th>\n",
       "      <th>MntMeatProducts</th>\n",
       "      <th>...</th>\n",
       "      <th>AcceptedCmp4</th>\n",
       "      <th>AcceptedCmp5</th>\n",
       "      <th>AcceptedCmp1</th>\n",
       "      <th>AcceptedCmp2</th>\n",
       "      <th>Complain</th>\n",
       "      <th>Response</th>\n",
       "      <th>Total_Expenses</th>\n",
       "      <th>Num_Total_Purchases</th>\n",
       "      <th>Kids</th>\n",
       "      <th>TotalAcceptedCmp</th>\n",
       "    </tr>\n",
       "  </thead>\n",
       "  <tbody>\n",
       "    <tr>\n",
       "      <th>0</th>\n",
       "      <td>1957</td>\n",
       "      <td>2</td>\n",
       "      <td>0</td>\n",
       "      <td>58138.0</td>\n",
       "      <td>0</td>\n",
       "      <td>0</td>\n",
       "      <td>58</td>\n",
       "      <td>635</td>\n",
       "      <td>88</td>\n",
       "      <td>546</td>\n",
       "      <td>...</td>\n",
       "      <td>0</td>\n",
       "      <td>0</td>\n",
       "      <td>0</td>\n",
       "      <td>0</td>\n",
       "      <td>0</td>\n",
       "      <td>1</td>\n",
       "      <td>1617</td>\n",
       "      <td>25</td>\n",
       "      <td>0</td>\n",
       "      <td>1</td>\n",
       "    </tr>\n",
       "    <tr>\n",
       "      <th>1</th>\n",
       "      <td>1954</td>\n",
       "      <td>2</td>\n",
       "      <td>0</td>\n",
       "      <td>46344.0</td>\n",
       "      <td>1</td>\n",
       "      <td>1</td>\n",
       "      <td>38</td>\n",
       "      <td>11</td>\n",
       "      <td>1</td>\n",
       "      <td>6</td>\n",
       "      <td>...</td>\n",
       "      <td>0</td>\n",
       "      <td>0</td>\n",
       "      <td>0</td>\n",
       "      <td>0</td>\n",
       "      <td>0</td>\n",
       "      <td>0</td>\n",
       "      <td>27</td>\n",
       "      <td>6</td>\n",
       "      <td>2</td>\n",
       "      <td>0</td>\n",
       "    </tr>\n",
       "    <tr>\n",
       "      <th>2</th>\n",
       "      <td>1965</td>\n",
       "      <td>2</td>\n",
       "      <td>1</td>\n",
       "      <td>71613.0</td>\n",
       "      <td>0</td>\n",
       "      <td>0</td>\n",
       "      <td>26</td>\n",
       "      <td>426</td>\n",
       "      <td>49</td>\n",
       "      <td>127</td>\n",
       "      <td>...</td>\n",
       "      <td>0</td>\n",
       "      <td>0</td>\n",
       "      <td>0</td>\n",
       "      <td>0</td>\n",
       "      <td>0</td>\n",
       "      <td>0</td>\n",
       "      <td>776</td>\n",
       "      <td>21</td>\n",
       "      <td>0</td>\n",
       "      <td>0</td>\n",
       "    </tr>\n",
       "    <tr>\n",
       "      <th>3</th>\n",
       "      <td>1984</td>\n",
       "      <td>2</td>\n",
       "      <td>1</td>\n",
       "      <td>26646.0</td>\n",
       "      <td>1</td>\n",
       "      <td>0</td>\n",
       "      <td>26</td>\n",
       "      <td>11</td>\n",
       "      <td>4</td>\n",
       "      <td>20</td>\n",
       "      <td>...</td>\n",
       "      <td>0</td>\n",
       "      <td>0</td>\n",
       "      <td>0</td>\n",
       "      <td>0</td>\n",
       "      <td>0</td>\n",
       "      <td>0</td>\n",
       "      <td>53</td>\n",
       "      <td>8</td>\n",
       "      <td>1</td>\n",
       "      <td>0</td>\n",
       "    </tr>\n",
       "    <tr>\n",
       "      <th>4</th>\n",
       "      <td>1981</td>\n",
       "      <td>4</td>\n",
       "      <td>1</td>\n",
       "      <td>58293.0</td>\n",
       "      <td>1</td>\n",
       "      <td>0</td>\n",
       "      <td>94</td>\n",
       "      <td>173</td>\n",
       "      <td>43</td>\n",
       "      <td>118</td>\n",
       "      <td>...</td>\n",
       "      <td>0</td>\n",
       "      <td>0</td>\n",
       "      <td>0</td>\n",
       "      <td>0</td>\n",
       "      <td>0</td>\n",
       "      <td>0</td>\n",
       "      <td>422</td>\n",
       "      <td>19</td>\n",
       "      <td>1</td>\n",
       "      <td>0</td>\n",
       "    </tr>\n",
       "    <tr>\n",
       "      <th>...</th>\n",
       "      <td>...</td>\n",
       "      <td>...</td>\n",
       "      <td>...</td>\n",
       "      <td>...</td>\n",
       "      <td>...</td>\n",
       "      <td>...</td>\n",
       "      <td>...</td>\n",
       "      <td>...</td>\n",
       "      <td>...</td>\n",
       "      <td>...</td>\n",
       "      <td>...</td>\n",
       "      <td>...</td>\n",
       "      <td>...</td>\n",
       "      <td>...</td>\n",
       "      <td>...</td>\n",
       "      <td>...</td>\n",
       "      <td>...</td>\n",
       "      <td>...</td>\n",
       "      <td>...</td>\n",
       "      <td>...</td>\n",
       "      <td>...</td>\n",
       "    </tr>\n",
       "    <tr>\n",
       "      <th>2235</th>\n",
       "      <td>1967</td>\n",
       "      <td>2</td>\n",
       "      <td>1</td>\n",
       "      <td>61223.0</td>\n",
       "      <td>0</td>\n",
       "      <td>1</td>\n",
       "      <td>46</td>\n",
       "      <td>709</td>\n",
       "      <td>43</td>\n",
       "      <td>182</td>\n",
       "      <td>...</td>\n",
       "      <td>0</td>\n",
       "      <td>0</td>\n",
       "      <td>0</td>\n",
       "      <td>0</td>\n",
       "      <td>0</td>\n",
       "      <td>0</td>\n",
       "      <td>1341</td>\n",
       "      <td>18</td>\n",
       "      <td>1</td>\n",
       "      <td>0</td>\n",
       "    </tr>\n",
       "    <tr>\n",
       "      <th>2236</th>\n",
       "      <td>1946</td>\n",
       "      <td>4</td>\n",
       "      <td>1</td>\n",
       "      <td>64014.0</td>\n",
       "      <td>2</td>\n",
       "      <td>1</td>\n",
       "      <td>56</td>\n",
       "      <td>406</td>\n",
       "      <td>0</td>\n",
       "      <td>30</td>\n",
       "      <td>...</td>\n",
       "      <td>0</td>\n",
       "      <td>0</td>\n",
       "      <td>1</td>\n",
       "      <td>0</td>\n",
       "      <td>0</td>\n",
       "      <td>0</td>\n",
       "      <td>444</td>\n",
       "      <td>22</td>\n",
       "      <td>3</td>\n",
       "      <td>1</td>\n",
       "    </tr>\n",
       "    <tr>\n",
       "      <th>2237</th>\n",
       "      <td>1981</td>\n",
       "      <td>2</td>\n",
       "      <td>0</td>\n",
       "      <td>56981.0</td>\n",
       "      <td>0</td>\n",
       "      <td>0</td>\n",
       "      <td>91</td>\n",
       "      <td>908</td>\n",
       "      <td>48</td>\n",
       "      <td>217</td>\n",
       "      <td>...</td>\n",
       "      <td>1</td>\n",
       "      <td>0</td>\n",
       "      <td>0</td>\n",
       "      <td>0</td>\n",
       "      <td>0</td>\n",
       "      <td>0</td>\n",
       "      <td>1241</td>\n",
       "      <td>19</td>\n",
       "      <td>0</td>\n",
       "      <td>1</td>\n",
       "    </tr>\n",
       "    <tr>\n",
       "      <th>2238</th>\n",
       "      <td>1956</td>\n",
       "      <td>3</td>\n",
       "      <td>1</td>\n",
       "      <td>69245.0</td>\n",
       "      <td>0</td>\n",
       "      <td>1</td>\n",
       "      <td>8</td>\n",
       "      <td>428</td>\n",
       "      <td>30</td>\n",
       "      <td>214</td>\n",
       "      <td>...</td>\n",
       "      <td>0</td>\n",
       "      <td>0</td>\n",
       "      <td>0</td>\n",
       "      <td>0</td>\n",
       "      <td>0</td>\n",
       "      <td>0</td>\n",
       "      <td>843</td>\n",
       "      <td>23</td>\n",
       "      <td>1</td>\n",
       "      <td>0</td>\n",
       "    </tr>\n",
       "    <tr>\n",
       "      <th>2239</th>\n",
       "      <td>1954</td>\n",
       "      <td>4</td>\n",
       "      <td>1</td>\n",
       "      <td>52869.0</td>\n",
       "      <td>1</td>\n",
       "      <td>1</td>\n",
       "      <td>40</td>\n",
       "      <td>84</td>\n",
       "      <td>3</td>\n",
       "      <td>61</td>\n",
       "      <td>...</td>\n",
       "      <td>0</td>\n",
       "      <td>0</td>\n",
       "      <td>0</td>\n",
       "      <td>0</td>\n",
       "      <td>0</td>\n",
       "      <td>1</td>\n",
       "      <td>172</td>\n",
       "      <td>11</td>\n",
       "      <td>2</td>\n",
       "      <td>1</td>\n",
       "    </tr>\n",
       "  </tbody>\n",
       "</table>\n",
       "<p>2240 rows × 29 columns</p>\n",
       "</div>"
      ],
      "text/plain": [
       "      Year_Birth  Education  Marital_Status   Income  Kidhome  Teenhome  \\\n",
       "0           1957          2               0  58138.0        0         0   \n",
       "1           1954          2               0  46344.0        1         1   \n",
       "2           1965          2               1  71613.0        0         0   \n",
       "3           1984          2               1  26646.0        1         0   \n",
       "4           1981          4               1  58293.0        1         0   \n",
       "...          ...        ...             ...      ...      ...       ...   \n",
       "2235        1967          2               1  61223.0        0         1   \n",
       "2236        1946          4               1  64014.0        2         1   \n",
       "2237        1981          2               0  56981.0        0         0   \n",
       "2238        1956          3               1  69245.0        0         1   \n",
       "2239        1954          4               1  52869.0        1         1   \n",
       "\n",
       "      Recency  MntWines  MntFruits  MntMeatProducts  ...  AcceptedCmp4  \\\n",
       "0          58       635         88              546  ...             0   \n",
       "1          38        11          1                6  ...             0   \n",
       "2          26       426         49              127  ...             0   \n",
       "3          26        11          4               20  ...             0   \n",
       "4          94       173         43              118  ...             0   \n",
       "...       ...       ...        ...              ...  ...           ...   \n",
       "2235       46       709         43              182  ...             0   \n",
       "2236       56       406          0               30  ...             0   \n",
       "2237       91       908         48              217  ...             1   \n",
       "2238        8       428         30              214  ...             0   \n",
       "2239       40        84          3               61  ...             0   \n",
       "\n",
       "      AcceptedCmp5  AcceptedCmp1  AcceptedCmp2  Complain  Response  \\\n",
       "0                0             0             0         0         1   \n",
       "1                0             0             0         0         0   \n",
       "2                0             0             0         0         0   \n",
       "3                0             0             0         0         0   \n",
       "4                0             0             0         0         0   \n",
       "...            ...           ...           ...       ...       ...   \n",
       "2235             0             0             0         0         0   \n",
       "2236             0             1             0         0         0   \n",
       "2237             0             0             0         0         0   \n",
       "2238             0             0             0         0         0   \n",
       "2239             0             0             0         0         1   \n",
       "\n",
       "      Total_Expenses  Num_Total_Purchases  Kids  TotalAcceptedCmp  \n",
       "0               1617                   25     0                 1  \n",
       "1                 27                    6     2                 0  \n",
       "2                776                   21     0                 0  \n",
       "3                 53                    8     1                 0  \n",
       "4                422                   19     1                 0  \n",
       "...              ...                  ...   ...               ...  \n",
       "2235            1341                   18     1                 0  \n",
       "2236             444                   22     3                 1  \n",
       "2237            1241                   19     0                 1  \n",
       "2238             843                   23     1                 0  \n",
       "2239             172                   11     2                 1  \n",
       "\n",
       "[2240 rows x 29 columns]"
      ]
     },
     "execution_count": 28,
     "metadata": {},
     "output_type": "execute_result"
    }
   ],
   "source": [
    "df"
   ]
  },
  {
   "cell_type": "markdown",
   "id": "9242e36d",
   "metadata": {
    "id": "9242e36d"
   },
   "source": [
    "### 14. Standardize the columns, so that values are in a particular range"
   ]
  },
  {
   "cell_type": "code",
   "execution_count": 29,
   "id": "72475b68",
   "metadata": {
    "id": "72475b68"
   },
   "outputs": [
    {
     "name": "stdout",
     "output_type": "stream",
     "text": [
      "All features are now scaled\n"
     ]
    }
   ],
   "source": [
    "ds=df1.select_dtypes(include=['int64','float64'])\n",
    "scaler = StandardScaler()\n",
    "scaler.fit(ds)\n",
    "scaled_ds =pd.DataFrame(scaler.transform(ds),columns=ds.columns)\n",
    "print(\"All features are now scaled\")"
   ]
  },
  {
   "cell_type": "code",
   "execution_count": 30,
   "id": "9a8dc70f",
   "metadata": {},
   "outputs": [
    {
     "data": {
      "text/html": [
       "<div>\n",
       "<style scoped>\n",
       "    .dataframe tbody tr th:only-of-type {\n",
       "        vertical-align: middle;\n",
       "    }\n",
       "\n",
       "    .dataframe tbody tr th {\n",
       "        vertical-align: top;\n",
       "    }\n",
       "\n",
       "    .dataframe thead th {\n",
       "        text-align: right;\n",
       "    }\n",
       "</style>\n",
       "<table border=\"1\" class=\"dataframe\">\n",
       "  <thead>\n",
       "    <tr style=\"text-align: right;\">\n",
       "      <th></th>\n",
       "      <th>Income</th>\n",
       "      <th>Recency</th>\n",
       "      <th>NumWebVisitsMonth</th>\n",
       "      <th>Complain</th>\n",
       "      <th>Total_Expenses</th>\n",
       "      <th>Num_Total_Purchases</th>\n",
       "      <th>Kids</th>\n",
       "      <th>TotalAcceptedCmp</th>\n",
       "      <th>age</th>\n",
       "    </tr>\n",
       "  </thead>\n",
       "  <tbody>\n",
       "    <tr>\n",
       "      <th>0</th>\n",
       "      <td>0.235327</td>\n",
       "      <td>0.307039</td>\n",
       "      <td>0.693904</td>\n",
       "      <td>-0.097282</td>\n",
       "      <td>1.679417</td>\n",
       "      <td>1.320826</td>\n",
       "      <td>-1.264505</td>\n",
       "      <td>0.621248</td>\n",
       "      <td>0.985345</td>\n",
       "    </tr>\n",
       "    <tr>\n",
       "      <th>1</th>\n",
       "      <td>-0.235826</td>\n",
       "      <td>-0.383664</td>\n",
       "      <td>-0.130463</td>\n",
       "      <td>-0.097282</td>\n",
       "      <td>-0.961275</td>\n",
       "      <td>-1.154596</td>\n",
       "      <td>1.396361</td>\n",
       "      <td>-0.501912</td>\n",
       "      <td>1.235733</td>\n",
       "    </tr>\n",
       "    <tr>\n",
       "      <th>2</th>\n",
       "      <td>0.773633</td>\n",
       "      <td>-0.798086</td>\n",
       "      <td>-0.542647</td>\n",
       "      <td>-0.097282</td>\n",
       "      <td>0.282673</td>\n",
       "      <td>0.799685</td>\n",
       "      <td>-1.264505</td>\n",
       "      <td>-0.501912</td>\n",
       "      <td>0.317643</td>\n",
       "    </tr>\n",
       "    <tr>\n",
       "      <th>3</th>\n",
       "      <td>-1.022732</td>\n",
       "      <td>-0.798086</td>\n",
       "      <td>0.281720</td>\n",
       "      <td>-0.097282</td>\n",
       "      <td>-0.918094</td>\n",
       "      <td>-0.894025</td>\n",
       "      <td>0.065928</td>\n",
       "      <td>-0.501912</td>\n",
       "      <td>-1.268149</td>\n",
       "    </tr>\n",
       "    <tr>\n",
       "      <th>4</th>\n",
       "      <td>0.241519</td>\n",
       "      <td>1.550305</td>\n",
       "      <td>-0.130463</td>\n",
       "      <td>-0.097282</td>\n",
       "      <td>-0.305254</td>\n",
       "      <td>0.539114</td>\n",
       "      <td>0.065928</td>\n",
       "      <td>-0.501912</td>\n",
       "      <td>-1.017761</td>\n",
       "    </tr>\n",
       "    <tr>\n",
       "      <th>...</th>\n",
       "      <td>...</td>\n",
       "      <td>...</td>\n",
       "      <td>...</td>\n",
       "      <td>...</td>\n",
       "      <td>...</td>\n",
       "      <td>...</td>\n",
       "      <td>...</td>\n",
       "      <td>...</td>\n",
       "      <td>...</td>\n",
       "    </tr>\n",
       "    <tr>\n",
       "      <th>2235</th>\n",
       "      <td>0.358568</td>\n",
       "      <td>-0.107383</td>\n",
       "      <td>-0.130463</td>\n",
       "      <td>-0.097282</td>\n",
       "      <td>1.221032</td>\n",
       "      <td>0.408829</td>\n",
       "      <td>0.065928</td>\n",
       "      <td>-0.501912</td>\n",
       "      <td>0.150717</td>\n",
       "    </tr>\n",
       "    <tr>\n",
       "      <th>2236</th>\n",
       "      <td>0.470064</td>\n",
       "      <td>0.237969</td>\n",
       "      <td>0.693904</td>\n",
       "      <td>-0.097282</td>\n",
       "      <td>-0.268717</td>\n",
       "      <td>0.929970</td>\n",
       "      <td>2.726794</td>\n",
       "      <td>0.621248</td>\n",
       "      <td>1.903435</td>\n",
       "    </tr>\n",
       "    <tr>\n",
       "      <th>2237</th>\n",
       "      <td>0.189106</td>\n",
       "      <td>1.446700</td>\n",
       "      <td>0.281720</td>\n",
       "      <td>-0.097282</td>\n",
       "      <td>1.054951</td>\n",
       "      <td>0.539114</td>\n",
       "      <td>-1.264505</td>\n",
       "      <td>0.621248</td>\n",
       "      <td>-1.017761</td>\n",
       "    </tr>\n",
       "    <tr>\n",
       "      <th>2238</th>\n",
       "      <td>0.679035</td>\n",
       "      <td>-1.419719</td>\n",
       "      <td>-0.954831</td>\n",
       "      <td>-0.097282</td>\n",
       "      <td>0.393948</td>\n",
       "      <td>1.060255</td>\n",
       "      <td>0.065928</td>\n",
       "      <td>-0.501912</td>\n",
       "      <td>1.068807</td>\n",
       "    </tr>\n",
       "    <tr>\n",
       "      <th>2239</th>\n",
       "      <td>0.024838</td>\n",
       "      <td>-0.314594</td>\n",
       "      <td>0.693904</td>\n",
       "      <td>-0.097282</td>\n",
       "      <td>-0.720458</td>\n",
       "      <td>-0.503169</td>\n",
       "      <td>1.396361</td>\n",
       "      <td>0.621248</td>\n",
       "      <td>1.235733</td>\n",
       "    </tr>\n",
       "  </tbody>\n",
       "</table>\n",
       "<p>2240 rows × 9 columns</p>\n",
       "</div>"
      ],
      "text/plain": [
       "        Income   Recency  NumWebVisitsMonth  Complain  Total_Expenses  \\\n",
       "0     0.235327  0.307039           0.693904 -0.097282        1.679417   \n",
       "1    -0.235826 -0.383664          -0.130463 -0.097282       -0.961275   \n",
       "2     0.773633 -0.798086          -0.542647 -0.097282        0.282673   \n",
       "3    -1.022732 -0.798086           0.281720 -0.097282       -0.918094   \n",
       "4     0.241519  1.550305          -0.130463 -0.097282       -0.305254   \n",
       "...        ...       ...                ...       ...             ...   \n",
       "2235  0.358568 -0.107383          -0.130463 -0.097282        1.221032   \n",
       "2236  0.470064  0.237969           0.693904 -0.097282       -0.268717   \n",
       "2237  0.189106  1.446700           0.281720 -0.097282        1.054951   \n",
       "2238  0.679035 -1.419719          -0.954831 -0.097282        0.393948   \n",
       "2239  0.024838 -0.314594           0.693904 -0.097282       -0.720458   \n",
       "\n",
       "      Num_Total_Purchases      Kids  TotalAcceptedCmp       age  \n",
       "0                1.320826 -1.264505          0.621248  0.985345  \n",
       "1               -1.154596  1.396361         -0.501912  1.235733  \n",
       "2                0.799685 -1.264505         -0.501912  0.317643  \n",
       "3               -0.894025  0.065928         -0.501912 -1.268149  \n",
       "4                0.539114  0.065928         -0.501912 -1.017761  \n",
       "...                   ...       ...               ...       ...  \n",
       "2235             0.408829  0.065928         -0.501912  0.150717  \n",
       "2236             0.929970  2.726794          0.621248  1.903435  \n",
       "2237             0.539114 -1.264505          0.621248 -1.017761  \n",
       "2238             1.060255  0.065928         -0.501912  1.068807  \n",
       "2239            -0.503169  1.396361          0.621248  1.235733  \n",
       "\n",
       "[2240 rows x 9 columns]"
      ]
     },
     "execution_count": 30,
     "metadata": {},
     "output_type": "execute_result"
    }
   ],
   "source": [
    "scaled_ds"
   ]
  },
  {
   "cell_type": "markdown",
   "id": "d063d2e2",
   "metadata": {
    "id": "d063d2e2"
   },
   "source": [
    "### 15. Apply PCA on the above dataset and determine the number of PCA components to be used so that 90-95% of the variance in data is explained by the same."
   ]
  },
  {
   "cell_type": "code",
   "execution_count": 31,
   "id": "6df3c70e",
   "metadata": {
    "id": "6df3c70e"
   },
   "outputs": [
    {
     "name": "stdout",
     "output_type": "stream",
     "text": [
      "Covariance matrix \n",
      " [[ 1.00044663 -0.00394826 -0.55006966 -0.02723528  0.66500337  0.5636214\n",
      "  -0.29084155  0.28717443  0.16101378]\n",
      " [-0.00394826  1.00044663 -0.02145427  0.01323699  0.02044173  0.00574294\n",
      "   0.01806145 -0.08900203  0.01987996]\n",
      " [-0.55006966 -0.02145427  1.00044663  0.01977734 -0.50044131 -0.31242795\n",
      "   0.41860616 -0.12836726 -0.12119336]\n",
      " [-0.02723528  0.01323699  0.01977734  1.00044663 -0.03707503 -0.02059185\n",
      "   0.03108014 -0.01761676  0.030141  ]\n",
      " [ 0.66500337  0.02044173 -0.50044131 -0.03707503  1.00044663  0.75423984\n",
      "  -0.49911047  0.4564099   0.11135611]\n",
      " [ 0.5636214   0.00574294 -0.31242795 -0.02059185  0.75423984  1.00044663\n",
      "  -0.24589955  0.25816052  0.16837908]\n",
      " [-0.29084155  0.01806145  0.41860616  0.03108014 -0.49911047 -0.24589955\n",
      "   1.00044663 -0.25387372  0.09023955]\n",
      " [ 0.28717443 -0.08900203 -0.12836726 -0.01761676  0.4564099   0.25816052\n",
      "  -0.25387372  1.00044663 -0.00830618]\n",
      " [ 0.16101378  0.01987996 -0.12119336  0.030141    0.11135611  0.16837908\n",
      "   0.09023955 -0.00830618  1.00044663]]\n"
     ]
    }
   ],
   "source": [
    "## Calculating covariance matrix\n",
    "cov_matrix = np.cov(scaled_ds.T)\n",
    "print('Covariance matrix','\\n',cov_matrix)"
   ]
  },
  {
   "cell_type": "code",
   "execution_count": 32,
   "id": "d22ede29",
   "metadata": {},
   "outputs": [
    {
     "name": "stdout",
     "output_type": "stream",
     "text": [
      "Eigen vectors: \n",
      " [[-4.54186341e-01  1.11892189e-01  7.31375574e-01  4.03243539e-01\n",
      "  -2.33187800e-01 -1.45690581e-01  7.50160260e-02  4.48916874e-02\n",
      "  -2.08413176e-02]\n",
      " [ 4.55224830e-03  3.73107767e-02  1.79844806e-02  5.15642035e-02\n",
      "   1.44825516e-01 -3.59015690e-01 -4.49572763e-01 -9.48776858e-02\n",
      "   7.96630864e-01]\n",
      " [ 3.81011904e-01 -9.85922860e-02  5.24218612e-01 -4.53175609e-01\n",
      "  -1.21780522e-01  7.15980390e-02 -5.40774382e-01  2.85498663e-02\n",
      "  -2.27436590e-01]\n",
      " [ 2.76449895e-02 -6.89622080e-03  5.02740927e-03  5.00271726e-04\n",
      "  -5.14030613e-02 -2.30938797e-01  3.51137422e-02 -9.52103633e-01\n",
      "  -1.88290644e-01]\n",
      " [-5.15586770e-01 -8.08700874e-01 -1.16426094e-01 -1.72083051e-01\n",
      "  -1.10920971e-01  1.97768311e-02 -1.55256580e-01 -1.32588657e-02\n",
      "  -5.52978277e-03]\n",
      " [-4.29724750e-01  5.04547519e-01 -3.06139311e-01 -3.70632952e-01\n",
      "  -4.72242395e-01 -1.71121736e-01 -2.46360214e-01  6.23496651e-02\n",
      "  -1.13145988e-01]\n",
      " [ 3.29980377e-01 -1.90900294e-01 -2.60327420e-01  5.52670240e-01\n",
      "  -3.95726940e-01 -3.79142421e-01 -2.89027722e-01  1.65000258e-01\n",
      "  -2.65225137e-01]\n",
      " [-2.80201082e-01  1.76771904e-01 -1.11948711e-01  3.39390568e-01\n",
      "   4.84091329e-01  3.36334736e-01 -5.68180603e-01 -8.05948729e-02\n",
      "  -2.92797499e-01]\n",
      " [-9.93325495e-02 -7.96970022e-03  4.85459285e-02 -2.04342080e-01\n",
      "   5.30014794e-01 -7.10548507e-01  8.61558892e-02  2.09481842e-01\n",
      "  -3.29934530e-01]]\n",
      "\n",
      "\n",
      "Eigen values: \n",
      " [3.17544706 0.15910977 0.33436845 0.57775269 0.71166919 1.15504789\n",
      " 0.87979044 0.9897799  1.02105426]\n"
     ]
    }
   ],
   "source": [
    "## Calculating eigen values and eigen vectors\n",
    "eig_vals, eig_vecs = np.linalg.eig(cov_matrix)\n",
    "print('Eigen vectors:','\\n',eig_vecs)\n",
    "print('\\n')\n",
    "print('Eigen values:','\\n',eig_vals)"
   ]
  },
  {
   "cell_type": "code",
   "execution_count": 33,
   "id": "55c1da5e",
   "metadata": {},
   "outputs": [
    {
     "name": "stdout",
     "output_type": "stream",
     "text": [
      "Variance Explained:  [35.26699384934357, 12.828136029916394, 11.339982615093431, 10.99264482467224, 9.771085312746116, 7.903905332989189, 6.416608516214676, 3.7135464459914753, 1.767097073032901]\n",
      "Cummulative Variance Explained:  [ 35.26699385  48.09512988  59.43511249  70.42775732  80.19884263\n",
      "  88.10274796  94.51935648  98.23290293 100.        ]\n"
     ]
    }
   ],
   "source": [
    "## Calculating the Variance explained and the cummulative variance explained\n",
    "total = sum(eig_vals)\n",
    "var_exp = [ (i/total)*100  for i in sorted(eig_vals,reverse=True)]\n",
    "cum_var_exp = np.cumsum(var_exp)\n",
    "print('Variance Explained: ',var_exp)\n",
    "print('Cummulative Variance Explained: ',cum_var_exp)"
   ]
  },
  {
   "cell_type": "code",
   "execution_count": 34,
   "id": "c2029c4e",
   "metadata": {},
   "outputs": [
    {
     "data": {
      "image/png": "[encoded data removed]",
      "text/plain": [
       "<Figure size 432x288 with 1 Axes>"
      ]
     },
     "metadata": {
      "needs_background": "light"
     },
     "output_type": "display_data"
    }
   ],
   "source": [
    "## Scree plot\n",
    "plt.bar(range(9),var_exp, align='center',color='lightgreen',edgecolor='black',label='Indiviual Explained Varinace')\n",
    "plt.step(range(9), cum_var_exp, where='mid',color='red',label='Cummulative explained Variance')\n",
    "plt.legend(loc = 'best')\n",
    "plt.ylabel('Explained Variance Ratio')\n",
    "plt.xlabel('Principal Components')\n",
    "plt.tight_layout()\n",
    "plt.show()"
   ]
  },
  {
   "cell_type": "markdown",
   "id": "b2df19d7",
   "metadata": {
    "id": "b2df19d7"
   },
   "source": [
    "### 16. Apply K-means clustering and segment the data (Use PCA transformed data for clustering)"
   ]
  },
  {
   "cell_type": "code",
   "execution_count": 35,
   "id": "a3a8bb4c",
   "metadata": {
    "id": "a3a8bb4c"
   },
   "outputs": [
    {
     "data": {
      "text/plain": [
       "PCA(n_components=8)"
      ]
     },
     "execution_count": 35,
     "metadata": {},
     "output_type": "execute_result"
    }
   ],
   "source": [
    "## Fitting the PCA model\n",
    "pca=PCA(n_components = 8)\n",
    "pca.fit(scaled_ds)"
   ]
  },
  {
   "cell_type": "code",
   "execution_count": 36,
   "id": "f513fd21",
   "metadata": {},
   "outputs": [
    {
     "data": {
      "text/html": [
       "<div>\n",
       "<style scoped>\n",
       "    .dataframe tbody tr th:only-of-type {\n",
       "        vertical-align: middle;\n",
       "    }\n",
       "\n",
       "    .dataframe tbody tr th {\n",
       "        vertical-align: top;\n",
       "    }\n",
       "\n",
       "    .dataframe thead th {\n",
       "        text-align: right;\n",
       "    }\n",
       "</style>\n",
       "<table border=\"1\" class=\"dataframe\">\n",
       "  <thead>\n",
       "    <tr style=\"text-align: right;\">\n",
       "      <th></th>\n",
       "      <th>PC1</th>\n",
       "      <th>PC2</th>\n",
       "      <th>PC3</th>\n",
       "      <th>PC4</th>\n",
       "      <th>PC5</th>\n",
       "      <th>PC6</th>\n",
       "      <th>PC7</th>\n",
       "      <th>PC8</th>\n",
       "    </tr>\n",
       "  </thead>\n",
       "  <tbody>\n",
       "    <tr>\n",
       "      <th>0</th>\n",
       "      <td>1.966478</td>\n",
       "      <td>0.276937</td>\n",
       "      <td>0.230163</td>\n",
       "      <td>-0.101651</td>\n",
       "      <td>0.987795</td>\n",
       "      <td>-0.423443</td>\n",
       "      <td>-1.671680</td>\n",
       "      <td>0.248490</td>\n",
       "    </tr>\n",
       "    <tr>\n",
       "      <th>1</th>\n",
       "      <td>-1.523404</td>\n",
       "      <td>1.212489</td>\n",
       "      <td>0.747883</td>\n",
       "      <td>-0.585184</td>\n",
       "      <td>-0.643676</td>\n",
       "      <td>-0.531598</td>\n",
       "      <td>0.886416</td>\n",
       "      <td>-0.030206</td>\n",
       "    </tr>\n",
       "    <tr>\n",
       "      <th>2</th>\n",
       "      <td>1.362016</td>\n",
       "      <td>-0.111091</td>\n",
       "      <td>0.224677</td>\n",
       "      <td>-0.132040</td>\n",
       "      <td>-1.143990</td>\n",
       "      <td>0.208117</td>\n",
       "      <td>-0.762464</td>\n",
       "      <td>0.389577</td>\n",
       "    </tr>\n",
       "    <tr>\n",
       "      <th>3</th>\n",
       "      <td>-1.711429</td>\n",
       "      <td>-1.320270</td>\n",
       "      <td>0.006110</td>\n",
       "      <td>0.127420</td>\n",
       "      <td>-0.645969</td>\n",
       "      <td>0.323568</td>\n",
       "      <td>0.033292</td>\n",
       "      <td>-0.257112</td>\n",
       "    </tr>\n",
       "    <tr>\n",
       "      <th>4</th>\n",
       "      <td>-0.034168</td>\n",
       "      <td>0.147575</td>\n",
       "      <td>-1.683934</td>\n",
       "      <td>0.171562</td>\n",
       "      <td>0.518710</td>\n",
       "      <td>0.840130</td>\n",
       "      <td>0.163184</td>\n",
       "      <td>-0.004245</td>\n",
       "    </tr>\n",
       "  </tbody>\n",
       "</table>\n",
       "</div>"
      ],
      "text/plain": [
       "        PC1       PC2       PC3       PC4       PC5       PC6       PC7  \\\n",
       "0  1.966478  0.276937  0.230163 -0.101651  0.987795 -0.423443 -1.671680   \n",
       "1 -1.523404  1.212489  0.747883 -0.585184 -0.643676 -0.531598  0.886416   \n",
       "2  1.362016 -0.111091  0.224677 -0.132040 -1.143990  0.208117 -0.762464   \n",
       "3 -1.711429 -1.320270  0.006110  0.127420 -0.645969  0.323568  0.033292   \n",
       "4 -0.034168  0.147575 -1.683934  0.171562  0.518710  0.840130  0.163184   \n",
       "\n",
       "        PC8  \n",
       "0  0.248490  \n",
       "1 -0.030206  \n",
       "2  0.389577  \n",
       "3 -0.257112  \n",
       "4 -0.004245  "
      ]
     },
     "execution_count": 36,
     "metadata": {},
     "output_type": "execute_result"
    }
   ],
   "source": [
    "data_pca = pca.transform(scaled_ds)\n",
    "data_pca = pd.DataFrame(data_pca,columns=['PC1','PC2','PC3','PC4','PC5','PC6','PC7','PC8'])\n",
    "data_pca.head()"
   ]
  },
  {
   "cell_type": "code",
   "execution_count": 37,
   "id": "e744d908",
   "metadata": {},
   "outputs": [
    {
     "data": {
      "text/html": [
       "<div>\n",
       "<style scoped>\n",
       "    .dataframe tbody tr th:only-of-type {\n",
       "        vertical-align: middle;\n",
       "    }\n",
       "\n",
       "    .dataframe tbody tr th {\n",
       "        vertical-align: top;\n",
       "    }\n",
       "\n",
       "    .dataframe thead th {\n",
       "        text-align: right;\n",
       "    }\n",
       "</style>\n",
       "<table border=\"1\" class=\"dataframe\">\n",
       "  <thead>\n",
       "    <tr style=\"text-align: right;\">\n",
       "      <th></th>\n",
       "      <th>num_clusters</th>\n",
       "      <th>cluster_errors</th>\n",
       "    </tr>\n",
       "  </thead>\n",
       "  <tbody>\n",
       "    <tr>\n",
       "      <th>0</th>\n",
       "      <td>1</td>\n",
       "      <td>19803.753230</td>\n",
       "    </tr>\n",
       "    <tr>\n",
       "      <th>1</th>\n",
       "      <td>2</td>\n",
       "      <td>14415.527943</td>\n",
       "    </tr>\n",
       "    <tr>\n",
       "      <th>2</th>\n",
       "      <td>3</td>\n",
       "      <td>12990.418825</td>\n",
       "    </tr>\n",
       "    <tr>\n",
       "      <th>3</th>\n",
       "      <td>4</td>\n",
       "      <td>10803.244635</td>\n",
       "    </tr>\n",
       "    <tr>\n",
       "      <th>4</th>\n",
       "      <td>5</td>\n",
       "      <td>9780.711791</td>\n",
       "    </tr>\n",
       "    <tr>\n",
       "      <th>5</th>\n",
       "      <td>6</td>\n",
       "      <td>8893.118657</td>\n",
       "    </tr>\n",
       "    <tr>\n",
       "      <th>6</th>\n",
       "      <td>7</td>\n",
       "      <td>8326.798362</td>\n",
       "    </tr>\n",
       "    <tr>\n",
       "      <th>7</th>\n",
       "      <td>8</td>\n",
       "      <td>7886.156054</td>\n",
       "    </tr>\n",
       "    <tr>\n",
       "      <th>8</th>\n",
       "      <td>9</td>\n",
       "      <td>7437.262866</td>\n",
       "    </tr>\n",
       "    <tr>\n",
       "      <th>9</th>\n",
       "      <td>10</td>\n",
       "      <td>6951.217748</td>\n",
       "    </tr>\n",
       "    <tr>\n",
       "      <th>10</th>\n",
       "      <td>11</td>\n",
       "      <td>6713.373591</td>\n",
       "    </tr>\n",
       "    <tr>\n",
       "      <th>11</th>\n",
       "      <td>12</td>\n",
       "      <td>6380.259734</td>\n",
       "    </tr>\n",
       "    <tr>\n",
       "      <th>12</th>\n",
       "      <td>13</td>\n",
       "      <td>6161.276586</td>\n",
       "    </tr>\n",
       "    <tr>\n",
       "      <th>13</th>\n",
       "      <td>14</td>\n",
       "      <td>5996.549044</td>\n",
       "    </tr>\n",
       "  </tbody>\n",
       "</table>\n",
       "</div>"
      ],
      "text/plain": [
       "    num_clusters  cluster_errors\n",
       "0              1    19803.753230\n",
       "1              2    14415.527943\n",
       "2              3    12990.418825\n",
       "3              4    10803.244635\n",
       "4              5     9780.711791\n",
       "5              6     8893.118657\n",
       "6              7     8326.798362\n",
       "7              8     7886.156054\n",
       "8              9     7437.262866\n",
       "9             10     6951.217748\n",
       "10            11     6713.373591\n",
       "11            12     6380.259734\n",
       "12            13     6161.276586\n",
       "13            14     5996.549044"
      ]
     },
     "execution_count": 37,
     "metadata": {},
     "output_type": "execute_result"
    }
   ],
   "source": [
    "cluster_range = range(1,15)\n",
    "cluster_errors = []\n",
    "\n",
    "for num_clusters in cluster_range:\n",
    "   \n",
    "    clusters = KMeans(num_clusters, n_init=8)\n",
    "    clusters.fit(data_pca)\n",
    "    \n",
    "    labels = clusters.labels_\n",
    "    centroids = clusters.cluster_centers_\n",
    "    \n",
    "    cluster_errors.append(clusters.inertia_)\n",
    "\n",
    "clusters_df = pd.DataFrame({'num_clusters':cluster_range, \n",
    "                           'cluster_errors':cluster_errors})\n",
    "\n",
    "clusters_df"
   ]
  },
  {
   "cell_type": "code",
   "execution_count": 38,
   "id": "29123956",
   "metadata": {},
   "outputs": [
    {
     "data": {
      "image/png": "[encoded data removed]",
      "text/plain": [
       "<Figure size 1080x360 with 1 Axes>"
      ]
     },
     "metadata": {
      "needs_background": "light"
     },
     "output_type": "display_data"
    }
   ],
   "source": [
    "# Elbow method\n",
    "plt.figure(figsize=[15,5])\n",
    "plt.title('The Elbow Method')\n",
    "plt.xlabel('Number of clusters using PCA')\n",
    "plt.plot(clusters_df['num_clusters'],clusters_df['cluster_errors'],marker='o',color='b')\n",
    "plt.show()"
   ]
  },
  {
   "cell_type": "code",
   "execution_count": 39,
   "id": "23935b94",
   "metadata": {},
   "outputs": [
    {
     "data": {
      "text/plain": [
       "KMeans(n_clusters=3, n_init=15, random_state=100)"
      ]
     },
     "execution_count": 39,
     "metadata": {},
     "output_type": "execute_result"
    }
   ],
   "source": [
    "## Fit the KMeans clustering model using the obtained optimal K\n",
    "kmeans = KMeans(n_clusters=3, n_init=15, random_state=100)\n",
    "kmeans.fit(data_pca)"
   ]
  },
  {
   "cell_type": "code",
   "execution_count": 40,
   "id": "bd042743",
   "metadata": {},
   "outputs": [
    {
     "data": {
      "text/plain": [
       "array([2, 1, 0, ..., 2, 0, 1])"
      ]
     },
     "execution_count": 40,
     "metadata": {},
     "output_type": "execute_result"
    }
   ],
   "source": [
    "## obtained labels from kmeans clustering\n",
    "kmeans.labels_"
   ]
  },
  {
   "cell_type": "code",
   "execution_count": 41,
   "id": "3255c267",
   "metadata": {},
   "outputs": [
    {
     "data": {
      "text/html": [
       "<div>\n",
       "<style scoped>\n",
       "    .dataframe tbody tr th:only-of-type {\n",
       "        vertical-align: middle;\n",
       "    }\n",
       "\n",
       "    .dataframe tbody tr th {\n",
       "        vertical-align: top;\n",
       "    }\n",
       "\n",
       "    .dataframe thead th {\n",
       "        text-align: right;\n",
       "    }\n",
       "</style>\n",
       "<table border=\"1\" class=\"dataframe\">\n",
       "  <thead>\n",
       "    <tr style=\"text-align: right;\">\n",
       "      <th></th>\n",
       "      <th>PC1</th>\n",
       "      <th>PC2</th>\n",
       "      <th>PC3</th>\n",
       "      <th>PC4</th>\n",
       "      <th>PC5</th>\n",
       "      <th>PC6</th>\n",
       "      <th>PC7</th>\n",
       "      <th>PC8</th>\n",
       "      <th>Labels</th>\n",
       "    </tr>\n",
       "  </thead>\n",
       "  <tbody>\n",
       "    <tr>\n",
       "      <th>0</th>\n",
       "      <td>1.966478</td>\n",
       "      <td>0.276937</td>\n",
       "      <td>0.230163</td>\n",
       "      <td>-0.101651</td>\n",
       "      <td>0.987795</td>\n",
       "      <td>-0.423443</td>\n",
       "      <td>-1.671680</td>\n",
       "      <td>0.248490</td>\n",
       "      <td>2</td>\n",
       "    </tr>\n",
       "    <tr>\n",
       "      <th>1</th>\n",
       "      <td>-1.523404</td>\n",
       "      <td>1.212489</td>\n",
       "      <td>0.747883</td>\n",
       "      <td>-0.585184</td>\n",
       "      <td>-0.643676</td>\n",
       "      <td>-0.531598</td>\n",
       "      <td>0.886416</td>\n",
       "      <td>-0.030206</td>\n",
       "      <td>1</td>\n",
       "    </tr>\n",
       "    <tr>\n",
       "      <th>2</th>\n",
       "      <td>1.362016</td>\n",
       "      <td>-0.111091</td>\n",
       "      <td>0.224677</td>\n",
       "      <td>-0.132040</td>\n",
       "      <td>-1.143990</td>\n",
       "      <td>0.208117</td>\n",
       "      <td>-0.762464</td>\n",
       "      <td>0.389577</td>\n",
       "      <td>0</td>\n",
       "    </tr>\n",
       "    <tr>\n",
       "      <th>3</th>\n",
       "      <td>-1.711429</td>\n",
       "      <td>-1.320270</td>\n",
       "      <td>0.006110</td>\n",
       "      <td>0.127420</td>\n",
       "      <td>-0.645969</td>\n",
       "      <td>0.323568</td>\n",
       "      <td>0.033292</td>\n",
       "      <td>-0.257112</td>\n",
       "      <td>1</td>\n",
       "    </tr>\n",
       "    <tr>\n",
       "      <th>4</th>\n",
       "      <td>-0.034168</td>\n",
       "      <td>0.147575</td>\n",
       "      <td>-1.683934</td>\n",
       "      <td>0.171562</td>\n",
       "      <td>0.518710</td>\n",
       "      <td>0.840130</td>\n",
       "      <td>0.163184</td>\n",
       "      <td>-0.004245</td>\n",
       "      <td>0</td>\n",
       "    </tr>\n",
       "  </tbody>\n",
       "</table>\n",
       "</div>"
      ],
      "text/plain": [
       "        PC1       PC2       PC3       PC4       PC5       PC6       PC7  \\\n",
       "0  1.966478  0.276937  0.230163 -0.101651  0.987795 -0.423443 -1.671680   \n",
       "1 -1.523404  1.212489  0.747883 -0.585184 -0.643676 -0.531598  0.886416   \n",
       "2  1.362016 -0.111091  0.224677 -0.132040 -1.143990  0.208117 -0.762464   \n",
       "3 -1.711429 -1.320270  0.006110  0.127420 -0.645969  0.323568  0.033292   \n",
       "4 -0.034168  0.147575 -1.683934  0.171562  0.518710  0.840130  0.163184   \n",
       "\n",
       "        PC8  Labels  \n",
       "0  0.248490       2  \n",
       "1 -0.030206       1  \n",
       "2  0.389577       0  \n",
       "3 -0.257112       1  \n",
       "4 -0.004245       0  "
      ]
     },
     "execution_count": 41,
     "metadata": {},
     "output_type": "execute_result"
    }
   ],
   "source": [
    "## Creating a new dataframe only for labels.\n",
    "df_labels = pd.DataFrame(kmeans.labels_, columns=list(['Labels']))\n",
    "kmeans_df=data_pca.join(df_labels)\n",
    "kmeans_df.head(5)"
   ]
  },
  {
   "cell_type": "code",
   "execution_count": 42,
   "id": "aeea10a9",
   "metadata": {},
   "outputs": [
    {
     "data": {
      "text/plain": [
       "1    1048\n",
       "0     689\n",
       "2     503\n",
       "Name: Labels, dtype: int64"
      ]
     },
     "execution_count": 42,
     "metadata": {},
     "output_type": "execute_result"
    }
   ],
   "source": [
    "kmeans_df['Labels'].value_counts()"
   ]
  },
  {
   "cell_type": "markdown",
   "id": "d8463aed",
   "metadata": {
    "id": "d8463aed"
   },
   "source": [
    "### 17. Apply Agglomerative clustering and segment the data (Use Original data for clustering), and perform cluster analysis by doing bivariate analysis between the cluster label and different features and write your observations."
   ]
  },
  {
   "cell_type": "code",
   "execution_count": 43,
   "id": "586c9ff0",
   "metadata": {},
   "outputs": [
    {
     "data": {
      "image/png": "[encoded data removed]",
      "text/plain": [
       "<Figure size 1296x504 with 1 Axes>"
      ]
     },
     "metadata": {
      "needs_background": "light"
     },
     "output_type": "display_data"
    }
   ],
   "source": [
    "plt.figure(figsize=[18,7])\n",
    "merg = linkage(data_pca, method='ward')\n",
    "dendrogram(merg, leaf_rotation=90,)\n",
    "plt.xlabel('Datapoints')\n",
    "plt.ylabel('Euclidean distance')\n",
    "plt.show()"
   ]
  },
  {
   "cell_type": "code",
   "execution_count": 44,
   "id": "4bc032cc",
   "metadata": {},
   "outputs": [
    {
     "name": "stdout",
     "output_type": "stream",
     "text": [
      "2 0.24807262040854938\n",
      "3 0.2577957547332537\n",
      "4 0.2018601258243863\n",
      "5 0.16900057025870183\n",
      "6 0.17063413304907762\n",
      "7 0.16889619090720226\n",
      "8 0.1678213895381303\n",
      "9 0.16013770537024666\n",
      "10 0.13489802068540493\n",
      "11 0.13158421806217185\n",
      "12 0.12869920601666393\n",
      "13 0.12841423709687538\n",
      "14 0.1262175726534842\n"
     ]
    }
   ],
   "source": [
    "from sklearn.metrics import silhouette_score\n",
    "for i in range(2,15):\n",
    "    hier = AgglomerativeClustering(n_clusters=i)\n",
    "    hier = hier.fit(data_pca)\n",
    "    labels = hier.fit_predict(data_pca)\n",
    "    print(i,silhouette_score(data_pca,labels))"
   ]
  },
  {
   "cell_type": "raw",
   "id": "bfbe047e",
   "metadata": {},
   "source": [
    ". We can observe from the above dendrogram and as well as silhouette scores for different cluster, the highest silhouette score is for cluster 3.\n",
    ". Lets choose k=3 as the optimal cluster size and build an agglomerative clustering model using original scaled dataset."
   ]
  },
  {
   "cell_type": "code",
   "execution_count": 45,
   "id": "86c547d0",
   "metadata": {},
   "outputs": [],
   "source": [
    "## Building hierarchical clustering model using the optimal clusters as 7\n",
    "hie_cluster = AgglomerativeClustering(n_clusters=3, affinity='euclidean',\n",
    "                                     linkage='ward')\n",
    "hie_cluster_model = hie_cluster.fit(data_pca)"
   ]
  },
  {
   "cell_type": "code",
   "execution_count": 46,
   "id": "0aa1e562",
   "metadata": {},
   "outputs": [
    {
     "data": {
      "text/html": [
       "<div>\n",
       "<style scoped>\n",
       "    .dataframe tbody tr th:only-of-type {\n",
       "        vertical-align: middle;\n",
       "    }\n",
       "\n",
       "    .dataframe tbody tr th {\n",
       "        vertical-align: top;\n",
       "    }\n",
       "\n",
       "    .dataframe thead th {\n",
       "        text-align: right;\n",
       "    }\n",
       "</style>\n",
       "<table border=\"1\" class=\"dataframe\">\n",
       "  <thead>\n",
       "    <tr style=\"text-align: right;\">\n",
       "      <th></th>\n",
       "      <th>Labels</th>\n",
       "    </tr>\n",
       "  </thead>\n",
       "  <tbody>\n",
       "    <tr>\n",
       "      <th>0</th>\n",
       "      <td>0</td>\n",
       "    </tr>\n",
       "    <tr>\n",
       "      <th>1</th>\n",
       "      <td>1</td>\n",
       "    </tr>\n",
       "    <tr>\n",
       "      <th>2</th>\n",
       "      <td>0</td>\n",
       "    </tr>\n",
       "    <tr>\n",
       "      <th>3</th>\n",
       "      <td>1</td>\n",
       "    </tr>\n",
       "    <tr>\n",
       "      <th>4</th>\n",
       "      <td>0</td>\n",
       "    </tr>\n",
       "  </tbody>\n",
       "</table>\n",
       "</div>"
      ],
      "text/plain": [
       "   Labels\n",
       "0       0\n",
       "1       1\n",
       "2       0\n",
       "3       1\n",
       "4       0"
      ]
     },
     "execution_count": 46,
     "metadata": {},
     "output_type": "execute_result"
    }
   ],
   "source": [
    "## Creating a dataframe of the labels\n",
    "df_label1 = pd.DataFrame(hie_cluster_model.labels_,columns=['Labels'])\n",
    "df_label1.head(5)"
   ]
  },
  {
   "cell_type": "code",
   "execution_count": 50,
   "id": "92c18519",
   "metadata": {},
   "outputs": [
    {
     "data": {
      "text/html": [
       "<div>\n",
       "<style scoped>\n",
       "    .dataframe tbody tr th:only-of-type {\n",
       "        vertical-align: middle;\n",
       "    }\n",
       "\n",
       "    .dataframe tbody tr th {\n",
       "        vertical-align: top;\n",
       "    }\n",
       "\n",
       "    .dataframe thead th {\n",
       "        text-align: right;\n",
       "    }\n",
       "</style>\n",
       "<table border=\"1\" class=\"dataframe\">\n",
       "  <thead>\n",
       "    <tr style=\"text-align: right;\">\n",
       "      <th></th>\n",
       "      <th>Education</th>\n",
       "      <th>Marital_Status</th>\n",
       "      <th>Income</th>\n",
       "      <th>Recency</th>\n",
       "      <th>NumWebVisitsMonth</th>\n",
       "      <th>Complain</th>\n",
       "      <th>Total_Expenses</th>\n",
       "      <th>Num_Total_Purchases</th>\n",
       "      <th>Kids</th>\n",
       "      <th>TotalAcceptedCmp</th>\n",
       "      <th>age</th>\n",
       "      <th>Labels</th>\n",
       "    </tr>\n",
       "  </thead>\n",
       "  <tbody>\n",
       "    <tr>\n",
       "      <th>0</th>\n",
       "      <td>Graduation</td>\n",
       "      <td>Single</td>\n",
       "      <td>58138.0</td>\n",
       "      <td>58</td>\n",
       "      <td>7</td>\n",
       "      <td>0</td>\n",
       "      <td>1617</td>\n",
       "      <td>25</td>\n",
       "      <td>0</td>\n",
       "      <td>1</td>\n",
       "      <td>65</td>\n",
       "      <td>0</td>\n",
       "    </tr>\n",
       "    <tr>\n",
       "      <th>1</th>\n",
       "      <td>Graduation</td>\n",
       "      <td>Single</td>\n",
       "      <td>46344.0</td>\n",
       "      <td>38</td>\n",
       "      <td>5</td>\n",
       "      <td>0</td>\n",
       "      <td>27</td>\n",
       "      <td>6</td>\n",
       "      <td>2</td>\n",
       "      <td>0</td>\n",
       "      <td>68</td>\n",
       "      <td>1</td>\n",
       "    </tr>\n",
       "    <tr>\n",
       "      <th>2</th>\n",
       "      <td>Graduation</td>\n",
       "      <td>relationship</td>\n",
       "      <td>71613.0</td>\n",
       "      <td>26</td>\n",
       "      <td>4</td>\n",
       "      <td>0</td>\n",
       "      <td>776</td>\n",
       "      <td>21</td>\n",
       "      <td>0</td>\n",
       "      <td>0</td>\n",
       "      <td>57</td>\n",
       "      <td>0</td>\n",
       "    </tr>\n",
       "    <tr>\n",
       "      <th>3</th>\n",
       "      <td>Graduation</td>\n",
       "      <td>relationship</td>\n",
       "      <td>26646.0</td>\n",
       "      <td>26</td>\n",
       "      <td>6</td>\n",
       "      <td>0</td>\n",
       "      <td>53</td>\n",
       "      <td>8</td>\n",
       "      <td>1</td>\n",
       "      <td>0</td>\n",
       "      <td>38</td>\n",
       "      <td>1</td>\n",
       "    </tr>\n",
       "    <tr>\n",
       "      <th>4</th>\n",
       "      <td>PhD</td>\n",
       "      <td>relationship</td>\n",
       "      <td>58293.0</td>\n",
       "      <td>94</td>\n",
       "      <td>5</td>\n",
       "      <td>0</td>\n",
       "      <td>422</td>\n",
       "      <td>19</td>\n",
       "      <td>1</td>\n",
       "      <td>0</td>\n",
       "      <td>41</td>\n",
       "      <td>0</td>\n",
       "    </tr>\n",
       "  </tbody>\n",
       "</table>\n",
       "</div>"
      ],
      "text/plain": [
       "    Education Marital_Status   Income  Recency  NumWebVisitsMonth  Complain  \\\n",
       "0  Graduation         Single  58138.0       58                  7         0   \n",
       "1  Graduation         Single  46344.0       38                  5         0   \n",
       "2  Graduation   relationship  71613.0       26                  4         0   \n",
       "3  Graduation   relationship  26646.0       26                  6         0   \n",
       "4         PhD   relationship  58293.0       94                  5         0   \n",
       "\n",
       "   Total_Expenses  Num_Total_Purchases  Kids  TotalAcceptedCmp  age  Labels  \n",
       "0            1617                   25     0                 1   65       0  \n",
       "1              27                    6     2                 0   68       1  \n",
       "2             776                   21     0                 0   57       0  \n",
       "3              53                    8     1                 0   38       1  \n",
       "4             422                   19     1                 0   41       0  "
      ]
     },
     "execution_count": 50,
     "metadata": {},
     "output_type": "execute_result"
    }
   ],
   "source": [
    "df_hier=df1.join(df_label1)\n",
    "df_hier.head()"
   ]
  },
  {
   "cell_type": "markdown",
   "id": "797a5ecd",
   "metadata": {
    "id": "797a5ecd"
   },
   "source": [
    "### Visualization and Interpretation of results"
   ]
  },
  {
   "cell_type": "raw",
   "id": "4437663d",
   "metadata": {},
   "source": [
    "1.In this case study, we have attempted to cluster adult census dataset using K-means and agglomerative clustering and we also reduced the dimensionality of the dataset using PCA.\n",
    "2.We came up with 3 clusters using K-means and 3 classes using agglomerative clustering.\n",
    "3.Although selection of the clusters can be revised using Silhoutte score but for a general introductory part it is okay to visualize the plot (either elbow graph or dendrograms) and come up with a particular clusters size.\n",
    "5.Further, we can also do the cluster analysis by doing bivariate analysis between cluster labels and different features and understand the characteristics of different groups."
   ]
  },
  {
   "cell_type": "markdown",
   "id": "36afd95b",
   "metadata": {
    "id": "36afd95b"
   },
   "source": [
    "-----\n",
    "## Happy Learning\n",
    "-----"
   ]
  }
 ],
 "metadata": {
  "colab": {
   "collapsed_sections": [
    "36afd95b"
   ],
   "name": "Unsupervised Learning - Lab session.ipynb",
   "provenance": []
  },
  "kernelspec": {
   "display_name": "Python 3 (ipykernel)",
   "language": "python",
   "name": "python3"
  },
  "language_info": {
   "codemirror_mode": {
    "name": "ipython",
    "version": 3
   },
   "file_extension": ".py",
   "mimetype": "text/x-python",
   "name": "python",
   "nbconvert_exporter": "python",
   "pygments_lexer": "ipython3",
   "version": "3.9.13"
  }
 },
 "nbformat": 4,
 "nbformat_minor": 5
}
